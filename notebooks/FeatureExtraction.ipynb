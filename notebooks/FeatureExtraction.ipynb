{
 "cells": [
  {
   "cell_type": "code",
   "execution_count": 178,
   "metadata": {},
   "outputs": [],
   "source": [
    "using PyCall\n",
    "using Distances\n",
    "using StatsBase\n",
    "using LinearAlgebra\n",
    "using JuMP\n",
    "using Gurobi\n",
    "using CSV\n",
    "using Distances\n",
    "using PyPlot\n",
    "using SparseArrays\n",
    "using Printf"
   ]
  },
  {
   "cell_type": "code",
   "execution_count": 179,
   "metadata": {},
   "outputs": [],
   "source": [
    "py\"\"\"\n",
    "import numpy as np\n",
    "import cv2\n",
    "\n",
    "class RootSIFT:\n",
    "    def __init__(self):\n",
    "        self.extractor = cv2.xfeatures2d.SIFT_create()\n",
    "\n",
    "    def compute(self, image, kps, eps=1e-7):\n",
    "        (kps, descs) = self.extractor.compute(image, kps)\n",
    "        if len(kps) == 0:\n",
    "            return ([], None)\n",
    "\n",
    "        descs /= (descs.sum(axis=1, keepdims=True) + eps)\n",
    "        descs = np.sqrt(descs)\n",
    "        return (kps, descs)\n",
    "def rootSIFT(img_path):\n",
    "    image = cv2.imread(img_path)\n",
    "    gray = cv2.cvtColor(image, cv2.COLOR_BGR2GRAY)\n",
    "    sift = cv2.xfeatures2d.SIFT_create()\n",
    "    (kps, descs) = sift.detectAndCompute(gray, None)\n",
    "    rs = RootSIFT()\n",
    "    (kps, descs) = rs.compute(gray, kps)\n",
    "    pos = [np.array([x.pt[0], x.pt[1]]) for x in kps]\n",
    "    return np.array(pos)\n",
    "\n",
    "\"\"\"\n",
    "\n",
    "img1_path = \"../data/test/test_1.jpg\"\n",
    "img2_path = \"../data/test/test_2.jpg\"\n",
    "\n",
    "descs1 = py\"rootSIFT\"(img1_path);\n",
    "descs2 = py\"rootSIFT\"(img2_path);"
   ]
  },
  {
   "cell_type": "code",
   "execution_count": 180,
   "metadata": {},
   "outputs": [
    {
     "data": {
      "text/plain": [
       "cleaning (generic function with 1 method)"
      ]
     },
     "execution_count": 180,
     "metadata": {},
     "output_type": "execute_result"
    }
   ],
   "source": [
    "function cleaning(original)\n",
    "    res_dict = Dict()\n",
    "    for i in 1:size(original, 1)\n",
    "        res_dict[hash(original[i,:])] = original[i,:]\n",
    "    end\n",
    "    \n",
    "    vals = collect(values(res_dict))\n",
    "    output = zeros(size(vals,1), 2)\n",
    "    for i in 1:size(vals,1)\n",
    "        output[i,:] = [vals[i][1],vals[i][2]]\n",
    "    end\n",
    "    \n",
    "    return output\n",
    "end"
   ]
  },
  {
   "cell_type": "code",
   "execution_count": 181,
   "metadata": {},
   "outputs": [],
   "source": [
    "P_points = cleaning(descs1);\n",
    "Q_points = cleaning(descs2);"
   ]
  },
  {
   "cell_type": "code",
   "execution_count": 182,
   "metadata": {},
   "outputs": [
    {
     "data": {
      "text/plain": [
       "29×30 Array{Float64,2}:\n",
       " 33.1816  25.6977   12.5919   64.3669   …  38.8252   12.1565   17.7326 \n",
       " 17.109   24.5156   41.144    51.0615      26.5338   39.2535   13.9303 \n",
       " 23.0895  29.6556   42.2538   56.9207      32.5173   40.8556   17.3149 \n",
       " 41.6943  33.7886   10.4469   72.4677      47.1976   12.6395   26.1198 \n",
       " 35.3427  41.8389   72.8359    8.66254     28.1991   69.1836   51.3037 \n",
       " 26.9523  14.1883   28.062    42.5566   …  24.4311   24.2601   25.8473 \n",
       " 18.4356  26.6515   57.8012   18.1954      12.5528   54.3216   34.5311 \n",
       " 19.1683  19.522    49.591    19.3089       9.77404  45.8599   31.9935 \n",
       " 15.3118  17.7139   32.8203   50.1596      24.0252   30.705     5.13884\n",
       " 31.4239  18.2475   20.8426   50.346       30.7491   17.1347   26.0223 \n",
       " 25.8451  13.9655   17.4713   51.4418   …  28.0474   13.8194   16.8654 \n",
       " 42.4462  33.7024    7.57679  72.2448      47.4102   10.2362   27.3188 \n",
       " 32.3497  21.6362    9.57194  59.5758      35.7111    6.28212  19.984  \n",
       "  ⋮                                     ⋱                              \n",
       " 10.9624  23.7041   49.0622   39.367       18.2783   46.4153   21.0357 \n",
       " 16.7908   6.27243  25.4754   44.9611      19.9553   22.1314   10.7652 \n",
       " 35.3976  35.6245   63.8158    9.88339     26.0201   59.9997   48.673  \n",
       " 38.1313  28.9745    6.2041   67.4629   …  42.7712    7.00817  23.5091 \n",
       " 13.0166  20.3362   39.3805   47.4716      22.4384   37.1704   11.2918 \n",
       " 21.2795   8.27577  27.9056   41.0251      19.958    24.1144   20.3033 \n",
       "  6.4983  19.5931   46.6749   36.1645      13.6727   43.8013   19.3865 \n",
       " 39.5029  35.1599   58.7372   22.7822      30.4201   54.9549   49.4931 \n",
       " 12.5967  17.6814   48.8713   22.6237   …   3.8421   45.3239   27.4308 \n",
       " 14.1382  24.8697   55.3562   24.6301      11.8015   52.0706   30.2324 \n",
       " 20.4993  21.474    30.7223   55.3089      29.0985   29.1333    7.10291\n",
       " 30.3837  37.7034   68.8618   10.8843      23.7785   65.2723   46.4605 "
      ]
     },
     "execution_count": 182,
     "metadata": {},
     "output_type": "execute_result"
    }
   ],
   "source": [
    "cost = pairwise(Euclidean(), P_points, Q_points; dims=1)"
   ]
  },
  {
   "cell_type": "code",
   "execution_count": 183,
   "metadata": {},
   "outputs": [],
   "source": [
    "P = ones(size(P_points,1));\n",
    "Q = ones(size(Q_points,1));"
   ]
  },
  {
   "cell_type": "code",
   "execution_count": 184,
   "metadata": {},
   "outputs": [
    {
     "name": "stdout",
     "output_type": "stream",
     "text": [
      "Optimize a model with 60 rows, 870 columns and 2610 nonzeros\r\n",
      "Variable types: 0 continuous, 870 integer (0 binary)\r\n",
      "Coefficient statistics:\r\n",
      "  Matrix range     [1e+00, 1e+00]\r\n",
      "  Objective range  [9e-01, 7e+01]\r\n",
      "  Bounds range     [0e+00, 0e+00]\r\n",
      "  RHS range        [1e+00, 3e+01]\r\n",
      "Presolve time: 0.00s\r\n",
      "Presolved: 60 rows, 870 columns, 2610 nonzeros\r\n",
      "Variable types: 0 continuous, 870 integer (870 binary)\r\n",
      "\r\n",
      "Root relaxation: objective 2.621752e+02, 92 iterations, 0.00 seconds\r\n",
      "\r\n",
      "    Nodes    |    Current Node    |     Objective Bounds      |     Work\r\n",
      " Expl Unexpl |  Obj  Depth IntInf | Incumbent    BestBd   Gap | It/Node Time\r\n",
      "\r\n",
      "*    0     0               0     262.1752216  262.17522  0.00%     -    0s\r\n",
      "Optimal solution found at node 0 - now completing solution pool...\r\n",
      "     0     0          -    0       262.17522  262.17522  0.00%     -    0s\r\n",
      "     0     0          -    0       262.17522  262.17522  0.00%     -    0s\r\n",
      "     0     2          -    0       262.17522  262.17522  0.00%     -    0s\r\n",
      "\r\n",
      "Explored 1645 nodes (3723 simplex iterations) in 0.05 seconds\r\n",
      "Thread count was 20 (of 20 available processors)\r\n",
      "\r\n",
      "Solution count 9: 262.175 262.209 262.23 ... 262.423\r\n",
      "No other solutions better than 1e+100\r\n",
      "\r\n",
      "Optimal solution found (tolerance 1.00e-04)\r\n",
      "Best objective 2.621752215919e+02, best bound 2.621752215919e+02, gap 0.0000%\r\n"
     ]
    }
   ],
   "source": [
    "solCount = 1000\n",
    "m = JuMP.direct_model(Gurobi.Optimizer(PoolSearchMode=2, PoolSolutions=solCount, SolutionNumber=0,PoolGap = 0.001))\n",
    "\n",
    "@variable(m, X[axes(cost,1), axes(cost,2)] ≥ 0, Int)\n",
    "@objective(m, Min, cost ⋅ X)\n",
    "@constraint(m,sum(X) .== min(sum(P), sum(Q)))\n",
    "@constraint(m, X * ones(Int, length(Q)) .<= P)\n",
    "@constraint(m, X'ones(Int, length(P)) .<= Q);\n",
    "optimize!(m)\n",
    "solution_pool = zeros(solCount, length(P),length(Q))\n",
    "cnt = 0\n",
    "for i in 0:(solCount-1)\n",
    "    try\n",
    "        setparam!(m.moi_backend.inner,\"SolutionNumber\", i)\n",
    "        \n",
    "        xn = Gurobi.get_dblattrarray(m.moi_backend.inner, \"Xn\", 1, length(X))\n",
    "        xn_val = Gurobi.get_dblattr(m.moi_backend.inner, \"PoolObjVal\")\n",
    "        \n",
    "        default = zeros(length(P),length(Q))\n",
    "        for i in 0:length(P)-1\n",
    "            default[i+1,:] = xn[(i*length(Q))+1:(i+1)*length(Q)]\n",
    "        end\n",
    "        solution_pool[i+1,:,:] = default\n",
    "        cnt+=1\n",
    "    catch \n",
    "        break\n",
    "    end\n",
    "end\n",
    "sol_pool = deepcopy(solution_pool[1:cnt,:,:]);"
   ]
  },
  {
   "cell_type": "code",
   "execution_count": 210,
   "metadata": {},
   "outputs": [
    {
     "data": {
      "image/png": "[encoded data removed]",
      "text/plain": [
       "Figure(PyObject <Figure size 640x480 with 1 Axes>)"
      ]
     },
     "metadata": {},
     "output_type": "display_data"
    }
   ],
   "source": [
    "solOther = sparse(sol_pool[rand(1:cnt),:,:])\n",
    "for (x,y,v) in zip(findnz(solOther)...)\n",
    "    x_pos = [P_points'[:,x][1], Q_points'[:,y][1]]\n",
    "    y_pos = [P_points'[:,x][2], Q_points'[:,y][2]]\n",
    "    subplot(122)\n",
    "    scatter(x_pos, y_pos)\n",
    "    plot(x_pos, y_pos)\n",
    "    \n",
    "end"
   ]
  }
 ],
 "metadata": {
  "kernelspec": {
   "display_name": "Julia 1.1.1",
   "language": "julia",
   "name": "julia-1.1"
  },
  "language_info": {
   "file_extension": ".jl",
   "mimetype": "application/julia",
   "name": "julia",
   "version": "1.1.1"
  }
 },
 "nbformat": 4,
 "nbformat_minor": 2
}
