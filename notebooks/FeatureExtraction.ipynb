{
 "cells": [
  {
   "cell_type": "code",
   "execution_count": 1,
   "metadata": {},
   "outputs": [],
   "source": [
    "using PyCall\n",
    "using Distances\n",
    "using StatsBase\n",
    "using LinearAlgebra\n",
    "using JuMP\n",
    "using Gurobi\n",
    "using CSV\n",
    "using Distances\n",
    "using PyPlot\n",
    "using SparseArrays\n",
    "using Printf"
   ]
  },
  {
   "cell_type": "code",
   "execution_count": 7,
   "metadata": {},
   "outputs": [],
   "source": [
    "py\"\"\"\n",
    "import numpy as np\n",
    "import cv2\n",
    "\n",
    "class RootSIFT:\n",
    "    def __init__(self):\n",
    "        self.extractor = cv2.xfeatures2d.SIFT_create()\n",
    "\n",
    "    def compute(self, image, kps, eps=1e-7):\n",
    "        (kps, descs) = self.extractor.compute(image, kps)\n",
    "        if len(kps) == 0:\n",
    "            return ([], None)\n",
    "\n",
    "        descs /= (descs.sum(axis=1, keepdims=True) + eps)\n",
    "        descs = np.sqrt(descs)\n",
    "        return (kps, descs)\n",
    "def rootSIFT(img_path, resize = False):\n",
    "    image = cv2.imread(img_path)\n",
    "    gray = cv2.cvtColor(image, cv2.COLOR_BGR2GRAY)\n",
    "\n",
    "    if resize:\n",
    "        scale_percent = 10  # percent of original size\n",
    "        width = int(gray.shape[1] * scale_percent / 100)\n",
    "        height = int(gray.shape[0] * scale_percent / 100)\n",
    "        dim = (width, height)\n",
    "        gray = cv2.resize(gray, dim, interpolation = cv2.INTER_AREA)\n",
    "\n",
    "    sift = cv2.xfeatures2d.SIFT_create()\n",
    "    (kps, descs) = sift.detectAndCompute(gray, None)\n",
    "    rs = RootSIFT()\n",
    "    (kps, descs) = rs.compute(gray, kps)\n",
    "    pos = [np.array([x.pt[0], x.pt[1]]) for x in kps]\n",
    "\n",
    "    return np.array(pos)\n",
    "\n",
    "\"\"\"\n",
    "\n",
    "img1_path = \"../data/test/001_L.png\"\n",
    "img2_path = \"../data/test/001_R.png\"\n",
    "\n",
    "descs1 = py\"rootSIFT\"(img1_path, true);\n",
    "descs2 = py\"rootSIFT\"(img2_path, true);"
   ]
  },
  {
   "cell_type": "code",
   "execution_count": 8,
   "metadata": {},
   "outputs": [
    {
     "data": {
      "text/plain": [
       "cleaning (generic function with 1 method)"
      ]
     },
     "execution_count": 8,
     "metadata": {},
     "output_type": "execute_result"
    }
   ],
   "source": [
    "function cleaning(original)\n",
    "    res_dict = Dict()\n",
    "    for i in 1:size(original, 1)\n",
    "        res_dict[hash(original[i,:])] = original[i,:]\n",
    "    end\n",
    "    \n",
    "    vals = collect(values(res_dict))\n",
    "    output = zeros(size(vals,1), 2)\n",
    "    for i in 1:size(vals,1)\n",
    "        output[i,:] = [vals[i][1],vals[i][2]]\n",
    "    end\n",
    "    \n",
    "    return output\n",
    "end"
   ]
  },
  {
   "cell_type": "code",
   "execution_count": 9,
   "metadata": {},
   "outputs": [],
   "source": [
    "P_points = cleaning(descs1);\n",
    "Q_points = cleaning(descs2);"
   ]
  },
  {
   "cell_type": "code",
   "execution_count": 10,
   "metadata": {},
   "outputs": [
    {
     "data": {
      "text/plain": [
       "103×92 Array{Float64,2}:\n",
       " 61.8342   6.97698  39.1066  63.3773  82.5132   …   22.1227  41.508   32.9549\n",
       " 54.0311  50.1514   20.9806  53.6356  58.2447       63.2323  40.03    16.0306\n",
       " 54.8308  18.7395   30.8155  55.9986  72.8421       33.3938  34.4921  23.301 \n",
       " 10.8434  75.3053   75.8165   8.2697  18.8603       91.3617  29.1754  67.9698\n",
       " 42.9447  25.5713   38.3875  44.2389  62.7101       41.6521  22.527   29.763 \n",
       " 28.5887  73.7006   60.5858  26.3871  18.5817   …   89.6398  33.3093  54.2305\n",
       " 29.0729  77.7393   64.8922  26.6426  14.4762       93.7311  36.2779  58.6148\n",
       " 14.2001  76.6323   74.6425  11.4834  15.0149       92.7606  30.7008  67.0422\n",
       " 49.9954  55.0079   27.8581  49.3061  51.781        68.8091  38.2434  23.0292\n",
       " 36.4867  82.4448   65.548   34.0352  17.4309       98.2434  42.8244  60.0511\n",
       " 53.7622  12.6033   42.0721  55.4117  75.574    …   28.7653  33.6077  34.6739\n",
       " 48.5671  93.8791   72.4837  45.9993  24.2204      109.43    55.5878  68.1352\n",
       " 29.4863  86.5801   76.4332  26.7589   3.01963     102.714   42.4893  69.974 \n",
       "  ⋮                                             ⋱             ⋮              \n",
       " 61.0477  49.3541   13.9189  60.7674  65.6602       61.0706  46.0077  11.211 \n",
       " 39.6563  31.3621   36.7035  40.6454  57.4596       47.2953  19.7405  27.8588\n",
       " 37.8434  70.0322   50.388   36.0975  30.1584       85.4055  36.2778  44.9707\n",
       " 57.7889  10.2881   49.7224  59.7138  81.5306       24.5311  38.467   42.7579\n",
       " 48.6573  18.4157   40.0235  50.1752  69.7179   …   34.5676  28.3043  31.9825\n",
       " 70.5737   4.80106  44.4076  72.2408  91.9709       12.5692  50.4345  39.5884\n",
       " 18.6002  81.6129   90.4624  18.7839  33.7254       96.9489  37.8682  82.0946\n",
       " 85.232   49.9169   13.6703  85.395   92.6385       54.7383  67.4554  21.7292\n",
       " 84.2676  35.5883   22.8781  84.9977  97.1071       37.5333  64.6127  25.558 \n",
       " 46.1221  83.8537   60.768   43.8646  28.3793   …   99.1085  48.8514  56.5437\n",
       " 42.1423  79.7156   58.3126  39.97    26.7806       95.0882  44.3026  53.599 \n",
       " 72.683    9.79552  54.0218  74.6167  96.1584       10.5525  53.3135  48.8948"
      ]
     },
     "execution_count": 10,
     "metadata": {},
     "output_type": "execute_result"
    }
   ],
   "source": [
    "cost = pairwise(Euclidean(), P_points, Q_points; dims=1)"
   ]
  },
  {
   "cell_type": "code",
   "execution_count": 11,
   "metadata": {},
   "outputs": [],
   "source": [
    "P = ones(size(P_points,1));\n",
    "Q = ones(size(Q_points,1));"
   ]
  },
  {
   "cell_type": "code",
   "execution_count": 22,
   "metadata": {},
   "outputs": [
    {
     "name": "stdout",
     "output_type": "stream",
     "text": [
      "Optimize a model with 196 rows, 9476 columns and 28428 nonzeros\r\n",
      "Variable types: 0 continuous, 9476 integer (0 binary)\r\n",
      "Coefficient statistics:\r\n",
      "  Matrix range     [1e+00, 1e+00]\r\n",
      "  Objective range  [4e-01, 1e+02]\r\n",
      "  Bounds range     [0e+00, 0e+00]\r\n",
      "  RHS range        [1e+00, 9e+01]\r\n",
      "Presolve time: 0.03s\r\n",
      "Presolved: 196 rows, 9476 columns, 28428 nonzeros\r\n",
      "Variable types: 0 continuous, 9476 integer (9476 binary)\r\n",
      "\r\n",
      "Root relaxation: objective 5.170151e+02, 298 iterations, 0.01 seconds\r\n",
      "\r\n",
      "    Nodes    |    Current Node    |     Objective Bounds      |     Work\r\n",
      " Expl Unexpl |  Obj  Depth IntInf | Incumbent    BestBd   Gap | It/Node Time\r\n",
      "\r\n",
      "*    0     0               0     517.0151197  517.01512  0.00%     -    0s\r\n",
      "Optimal solution found at node 0 - now completing solution pool...\r\n",
      "     0     0          -    0       517.01512  517.01512  0.00%     -    0s\r\n",
      "     0     0          -    0       517.01512  517.01512  0.00%     -    0s\r\n",
      "     0     2          -    0       517.01512  517.01512  0.00%     -    0s\r\n",
      " 12576   314     cutoff  401       517.01512  517.01512  0.00%   1.1    5s\r\n",
      " 25825     0     cutoff  805       517.01512  517.01512  0.00%   1.7   10s\r\n",
      " 39654     0     cutoff 1202       517.01512  517.01512  0.00%   1.9   15s\r\n",
      " 53357     0     cutoff 1570       517.01512  517.01512  0.00%   2.0   20s\r\n",
      "\r\n",
      "Explored 56573 nodes (113235 simplex iterations) in 21.13 seconds\r\n",
      "Thread count was 20 (of 20 available processors)\r\n",
      "\r\n",
      "Solution count 20: 517.015 517.039 517.069 ... 517.165\r\n",
      "No other solutions better than 517.142\r\n",
      "\r\n",
      "Optimal solution found (tolerance 1.00e-04)\r\n",
      "Best objective 5.170151196671e+02, best bound 5.170151196671e+02, gap 0.0000%\r\n"
     ]
    }
   ],
   "source": [
    "solCount = 20\n",
    "# m = JuMP.direct_model(Gurobi.Optimizer(PoolSearchMode=2, PoolSolutions=solCount, SolutionNumber=0,PoolGap = 0.001))\n",
    "m = JuMP.direct_model(Gurobi.Optimizer(PoolSearchMode=2, PoolSolutions=solCount, SolutionNumber=0))\n",
    "\n",
    "@variable(m, X[axes(cost,1), axes(cost,2)] ≥ 0, Int)\n",
    "@objective(m, Min, cost ⋅ X)\n",
    "@constraint(m,sum(X) .== min(sum(P), sum(Q)))\n",
    "@constraint(m, X * ones(Int, length(Q)) .<= P)\n",
    "@constraint(m, X'ones(Int, length(P)) .<= Q);\n",
    "optimize!(m)\n",
    "solution_pool = zeros(solCount, length(P),length(Q))\n",
    "cnt = 0\n",
    "for i in 0:(solCount-1)\n",
    "    try\n",
    "        setparam!(m.moi_backend.inner,\"SolutionNumber\", i)\n",
    "        \n",
    "        xn = Gurobi.get_dblattrarray(m.moi_backend.inner, \"Xn\", 1, length(X))\n",
    "        xn_val = Gurobi.get_dblattr(m.moi_backend.inner, \"PoolObjVal\")\n",
    "        if(round(xn_val,digits=10) != round(obj, digits=10))\n",
    "            println(xn_val,' ', obj)\n",
    "            break\n",
    "        end\n",
    "        default = zeros(length(P),length(Q))\n",
    "        for i in 0:length(P)-1\n",
    "            default[i+1,:] = xn[(i*length(Q))+1:(i+1)*length(Q)]\n",
    "        end\n",
    "        solution_pool[i+1,:,:] = default\n",
    "        cnt+=1\n",
    "    catch \n",
    "        break\n",
    "    end\n",
    "end\n",
    "if(cnt == 0)\n",
    "    sol_pool = deepcopy(solution_pool[1,:,:]);\n",
    "end\n",
    "sol_pool = deepcopy(solution_pool[1:cnt,:,:]);"
   ]
  },
  {
   "cell_type": "code",
   "execution_count": 25,
   "metadata": {},
   "outputs": [
    {
     "data": {
      "image/png": "[encoded data removed]",
      "text/plain": [
       "Figure(PyObject <Figure size 640x480 with 1 Axes>)"
      ]
     },
     "metadata": {},
     "output_type": "display_data"
    }
   ],
   "source": [
    "solOther = sparse(value.(X))\n",
    "for (x,y,v) in zip(findnz(solOther)...)\n",
    "    x_pos = [P_points'[:,x][1], Q_points'[:,y][1]]\n",
    "    y_pos = [P_points'[:,x][2], Q_points'[:,y][2]]\n",
    "    subplot(122)\n",
    "    scatter(x_pos, y_pos)\n",
    "    plot(x_pos, y_pos)\n",
    "    \n",
    "end"
   ]
  }
 ],
 "metadata": {
  "kernelspec": {
   "display_name": "Julia 1.1.1",
   "language": "julia",
   "name": "julia-1.1"
  },
  "language_info": {
   "file_extension": ".jl",
   "mimetype": "application/julia",
   "name": "julia",
   "version": "1.1.1"
  }
 },
 "nbformat": 4,
 "nbformat_minor": 2
}
