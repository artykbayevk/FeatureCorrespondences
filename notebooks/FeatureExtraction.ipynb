{
 "cells": [
  {
   "cell_type": "code",
   "execution_count": 1,
   "metadata": {},
   "outputs": [],
   "source": [
    "using PyCall\n",
    "using Distances\n",
    "using StatsBase\n",
    "using LinearAlgebra\n",
    "using JuMP\n",
    "using Gurobi\n",
    "using CSV\n",
    "using Distances\n",
    "using PyPlot\n",
    "using SparseArrays\n",
    "using Printf\n",
    "using Images"
   ]
  },
  {
   "cell_type": "code",
   "execution_count": 2,
   "metadata": {},
   "outputs": [],
   "source": [
    "py\"\"\"\n",
    "import numpy as np\n",
    "import cv2\n",
    "\n",
    "class RootSIFT:\n",
    "    def __init__(self):\n",
    "        self.extractor = cv2.xfeatures2d.SIFT_create()\n",
    "\n",
    "    def compute(self, image, kps, eps=1e-7):\n",
    "        (kps, descs) = self.extractor.compute(image, kps)\n",
    "        if len(kps) == 0:\n",
    "            return ([], None)\n",
    "\n",
    "        descs /= (descs.sum(axis=1, keepdims=True) + eps)\n",
    "        descs = np.sqrt(descs)\n",
    "        return (kps, descs)\n",
    "def rootSIFT(img_path, resize = False, scale = 50):\n",
    "    image = cv2.imread(img_path)\n",
    "    gray = cv2.cvtColor(image, cv2.COLOR_BGR2GRAY)\n",
    "\n",
    "    if resize:  # percent of original size\n",
    "        width = int(gray.shape[1] * scale / 100)\n",
    "        height = int(gray.shape[0] * scale / 100)\n",
    "        dim = (width, height)\n",
    "        gray = cv2.resize(gray, dim, interpolation = cv2.INTER_AREA)\n",
    "\n",
    "    sift = cv2.xfeatures2d.SIFT_create()\n",
    "    (kps, descs) = sift.detectAndCompute(gray, None)\n",
    "    rs = RootSIFT()\n",
    "    (kps, descs) = rs.compute(gray, kps)\n",
    "    pos = [np.array([x.pt[0], x.pt[1]]) for x in kps]\n",
    "\n",
    "    return gray,np.array(pos)\n",
    "\n",
    "\"\"\"\n",
    "\n",
    "img1_path = \"../data/test/001_L.png\"\n",
    "img2_path = \"../data/test/001_R.png\"\n",
    "\n",
    "img1,descs1 = py\"rootSIFT\"(img1_path, true, scale = 5);\n",
    "img2,descs2  = py\"rootSIFT\"(img2_path, true, scale = 5);"
   ]
  },
  {
   "cell_type": "code",
   "execution_count": 3,
   "metadata": {},
   "outputs": [
    {
     "data": {
      "text/plain": [
       "cleaning (generic function with 1 method)"
      ]
     },
     "execution_count": 3,
     "metadata": {},
     "output_type": "execute_result"
    }
   ],
   "source": [
    "function cleaning(original)\n",
    "    res_dict = Dict()\n",
    "    for i in 1:size(original, 1)\n",
    "        res_dict[hash(original[i,:])] = original[i,:]\n",
    "    end\n",
    "    \n",
    "    vals = collect(values(res_dict))\n",
    "    output = zeros(size(vals,1), 2)\n",
    "    for i in 1:size(vals,1)\n",
    "        output[i,:] = [vals[i][1],vals[i][2]]\n",
    "    end\n",
    "    \n",
    "    return output\n",
    "end"
   ]
  },
  {
   "cell_type": "code",
   "execution_count": 119,
   "metadata": {},
   "outputs": [],
   "source": [
    "P_points = cleaning(descs1);\n",
    "Q_points = cleaning(descs2);"
   ]
  },
  {
   "cell_type": "code",
   "execution_count": 120,
   "metadata": {},
   "outputs": [
    {
     "data": {
      "text/plain": [
       "24×15 Array{Float64,2}:\n",
       "  2.61316  11.1868    7.00503  30.8348   …  17.1272   17.3534   35.4664 \n",
       " 10.9474   19.5943    1.4163   30.3281       8.77594  16.5053   38.6863 \n",
       " 28.1241   34.5655   24.4111   11.1851      21.7474   10.9699   26.9405 \n",
       " 39.0756   43.3279   37.9311    8.52203     36.8128   21.7427   20.6352 \n",
       " 27.7907   28.785    31.2468   12.0848      35.3381   16.8037    7.06402\n",
       " 32.2416   33.2718   35.3006   11.9227   …  38.7105   20.1008    4.56718\n",
       " 27.0193   31.9963   25.7746    5.06907     25.7923    9.49905  19.9157 \n",
       " 18.6642   27.3194    9.90619  27.576        3.28414  15.4411   39.2413 \n",
       " 25.7319   32.65     21.3516   13.7668      18.3861    9.56624  28.7146 \n",
       "  8.31735  16.7757    1.90974  31.6374      11.8754   17.7166   38.6789 \n",
       " 14.5937   15.7062   19.9322   19.5943   …  26.7722   12.088    19.5717 \n",
       " 41.6375   46.8343   39.06     12.9354      36.2631   23.8978   26.8731 \n",
       " 11.0873    7.92785  19.6796   28.0416      28.7471   18.8207   26.1259 \n",
       " 24.8758   30.8083   22.3789    9.39633     21.5606    7.21828  23.7513 \n",
       " 44.0281   49.3885   41.1152   15.6374      37.8134   26.286    29.3227 \n",
       " 15.0538   23.7387    5.63384  30.0614   …   4.56443  16.7937   40.0781 \n",
       " 45.067    49.0369   44.0161   14.349       42.6328   27.8246   23.2479 \n",
       " 26.6315   29.7687   27.8697    5.80399     30.181    11.7537   13.1621 \n",
       " 18.1879   21.7728   20.1902   13.0419      24.3699    6.46223  18.2324 \n",
       " 32.8914   39.2437   28.9782   11.863       25.4488   15.6092   28.3366 \n",
       "  1.23218   8.47807  10.1292   29.7524   …  19.9914   16.9332   32.932  \n",
       " 20.839    21.791    25.1411   15.2198      30.5561   13.0706   13.3661 \n",
       " 36.9032   37.9236   39.677    13.6076      42.5331   24.0353    5.69598\n",
       " 24.4814   25.6499   28.1059   12.6579      32.6307   14.3247   10.0933 "
      ]
     },
     "execution_count": 120,
     "metadata": {},
     "output_type": "execute_result"
    }
   ],
   "source": [
    "cost = pairwise(Euclidean(), P_points, Q_points; dims=1)"
   ]
  },
  {
   "cell_type": "code",
   "execution_count": 121,
   "metadata": {},
   "outputs": [],
   "source": [
    "P = ones(size(P_points,1));\n",
    "Q = ones(size(Q_points,1));"
   ]
  },
  {
   "cell_type": "code",
   "execution_count": 122,
   "metadata": {},
   "outputs": [
    {
     "name": "stdout",
     "output_type": "stream",
     "text": [
      "Optimize a model with 40 rows, 360 columns and 1080 nonzeros\r\n",
      "Variable types: 0 continuous, 360 integer (0 binary)\r\n",
      "Coefficient statistics:\r\n",
      "  Matrix range     [1e+00, 1e+00]\r\n",
      "  Objective range  [1e+00, 5e+01]\r\n",
      "  Bounds range     [0e+00, 0e+00]\r\n",
      "  RHS range        [1e+00, 2e+01]\r\n",
      "Presolve time: 0.00s\r\n",
      "Presolved: 40 rows, 360 columns, 1080 nonzeros\r\n",
      "Variable types: 0 continuous, 360 integer (360 binary)\r\n",
      "\r\n",
      "Root relaxation: objective 7.613365e+01, 29 iterations, 0.00 seconds\r\n",
      "\r\n",
      "    Nodes    |    Current Node    |     Objective Bounds      |     Work\r\n",
      " Expl Unexpl |  Obj  Depth IntInf | Incumbent    BestBd   Gap | It/Node Time\r\n",
      "\r\n",
      "*    0     0               0      76.1336532   76.13365  0.00%     -    0s\r\n",
      "Optimal solution found at node 0 - now completing solution pool...\r\n",
      "     0     0          -    0        76.13365   76.13365  0.00%     -    0s\r\n",
      "     0     0          -    0        76.13365   76.13365  0.00%     -    0s\r\n",
      "     0     2          -    0        76.13365   76.13365  0.00%     -    0s\r\n",
      "\r\n",
      "Explored 1945 nodes (1399 simplex iterations) in 0.03 seconds\r\n",
      "Thread count was 20 (of 20 available processors)\r\n",
      "\r\n",
      "Solution count 10: 76.1337 76.3143 76.367 ... 76.8897\r\n",
      "No other solutions better than 76.8897\r\n",
      "\r\n",
      "Optimal solution found (tolerance 1.00e-04)\r\n",
      "Best objective 7.613365321982e+01, best bound 7.613365321982e+01, gap 0.0000%\r\n",
      "1 solution(s) selected\n"
     ]
    }
   ],
   "source": [
    "solCount = 10\n",
    "# m = JuMP.direct_model(Gurobi.Optimizer(PoolSearchMode=2, PoolSolutions=solCount, SolutionNumber=0,PoolGap = 0.001))\n",
    "m = JuMP.direct_model(Gurobi.Optimizer(PoolSearchMode=2, PoolSolutions=solCount, SolutionNumber=0))\n",
    "\n",
    "@variable(m, X[axes(cost,1), axes(cost,2)] ≥ 0, Int)\n",
    "@objective(m, Min, cost ⋅ X)\n",
    "@constraint(m,sum(X) .== min(sum(P), sum(Q)))\n",
    "@constraint(m, X * ones(Int, length(Q)) .<= P)\n",
    "@constraint(m, X'ones(Int, length(P)) .<= Q);\n",
    "optimize!(m)\n",
    "solution_pool = zeros(solCount, length(P),length(Q))\n",
    "cnt = 0\n",
    "obj = objective_value(m)\n",
    "\n",
    "for i in 0:(solCount-1)\n",
    "    try\n",
    "        setparam!(m.moi_backend.inner,\"SolutionNumber\", i)\n",
    "        xn = Gurobi.get_dblattrarray(m.moi_backend.inner, \"Xn\", 1, length(X))\n",
    "        xn_val = Gurobi.get_dblattr(m.moi_backend.inner, \"PoolObjVal\")\n",
    "        if(round(xn_val,digits=1) != round(obj, digits=1))\n",
    "            println(cnt , \" solution(s) selected\")\n",
    "            break\n",
    "        end\n",
    "        default = zeros(length(P),length(Q))\n",
    "        for i in 0:length(P)-1\n",
    "            default[i+1,:] = xn[(i*length(Q))+1:(i+1)*length(Q)]\n",
    "        end\n",
    "        solution_pool[i+1,:,:] = default\n",
    "        cnt+=1\n",
    "    catch \n",
    "        break\n",
    "    end\n",
    "end\n",
    "sol_pool = deepcopy(solution_pool[1:cnt,:,:]);"
   ]
  },
  {
   "cell_type": "code",
   "execution_count": 143,
   "metadata": {},
   "outputs": [
    {
     "data": {
      "image/png": "[encoded data removed]",
      "text/plain": [
       "Figure(PyObject <Figure size 640x480 with 1 Axes>)"
      ]
     },
     "metadata": {},
     "output_type": "display_data"
    }
   ],
   "source": [
    "solOther = sparse(sol_pool[rand(1:cnt),:,:])\n",
    "for (x,y,v) in zip(findnz(solOther)...)\n",
    "    x_pos = [P_points'[:,x][1], Q_points'[:,y][1]]\n",
    "    y_pos = [P_points'[:,x][2], Q_points'[:,y][2]]\n",
    "    subplot(122)\n",
    "    scatter(x_pos, y_pos)\n",
    "    plot(x_pos, y_pos)\n",
    "end"
   ]
  }
 ],
 "metadata": {
  "kernelspec": {
   "display_name": "Julia 1.0.5",
   "language": "julia",
   "name": "julia-1.0"
  },
  "language_info": {
   "file_extension": ".jl",
   "mimetype": "application/julia",
   "name": "julia",
   "version": "1.0.5"
  },
  "pycharm": {
   "stem_cell": {
    "cell_type": "raw",
    "metadata": {
     "collapsed": false
    },
    "source": []
   }
  }
 },
 "nbformat": 4,
 "nbformat_minor": 2
}
