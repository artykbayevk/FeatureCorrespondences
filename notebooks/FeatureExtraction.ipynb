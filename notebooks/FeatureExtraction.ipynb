{
 "cells": [
  {
   "cell_type": "code",
   "execution_count": 1,
   "metadata": {},
   "outputs": [],
   "source": [
    "using PyCall\n",
    "using Distances\n",
    "using StatsBase\n",
    "using LinearAlgebra\n",
    "using JuMP\n",
    "using Gurobi\n",
    "using CSV\n",
    "using Distances\n",
    "using PyPlot\n",
    "using SparseArrays\n",
    "using Printf"
   ]
  },
  {
   "cell_type": "code",
   "execution_count": 2,
   "metadata": {},
   "outputs": [],
   "source": [
    "py\"\"\"\n",
    "import numpy as np\n",
    "import cv2\n",
    "\n",
    "class RootSIFT:\n",
    "    def __init__(self):\n",
    "        self.extractor = cv2.xfeatures2d.SIFT_create()\n",
    "\n",
    "    def compute(self, image, kps, eps=1e-7):\n",
    "        (kps, descs) = self.extractor.compute(image, kps)\n",
    "        if len(kps) == 0:\n",
    "            return ([], None)\n",
    "\n",
    "        descs /= (descs.sum(axis=1, keepdims=True) + eps)\n",
    "        descs = np.sqrt(descs)\n",
    "        return (kps, descs)\n",
    "def rootSIFT(img_path):\n",
    "    image = cv2.imread(img_path)\n",
    "    gray = cv2.cvtColor(image, cv2.COLOR_BGR2GRAY)\n",
    "    sift = cv2.xfeatures2d.SIFT_create()\n",
    "    (kps, descs) = sift.detectAndCompute(gray, None)\n",
    "    rs = RootSIFT()\n",
    "    (kps, descs) = rs.compute(gray, kps)\n",
    "    pos = [np.array([x.pt[0], x.pt[1]]) for x in kps]\n",
    "    return np.array(pos)\n",
    "\n",
    "\"\"\"\n",
    "\n",
    "img1_path = \"../data/test/test_1.jpg\"\n",
    "img2_path = \"../data/test/test_2.jpg\"\n",
    "\n",
    "descs1 = py\"rootSIFT\"(img1_path);\n",
    "descs2 = py\"rootSIFT\"(img2_path);"
   ]
  },
  {
   "cell_type": "code",
   "execution_count": 3,
   "metadata": {},
   "outputs": [
    {
     "data": {
      "text/plain": [
       "cleaning (generic function with 1 method)"
      ]
     },
     "execution_count": 3,
     "metadata": {},
     "output_type": "execute_result"
    }
   ],
   "source": [
    "function cleaning(original)\n",
    "    res_dict = Dict()\n",
    "    for i in 1:size(original, 1)\n",
    "        res_dict[hash(original[i,:])] = original[i,:]\n",
    "    end\n",
    "    \n",
    "    vals = collect(values(res_dict))\n",
    "    output = zeros(size(vals,1), 2)\n",
    "    for i in 1:size(vals,1)\n",
    "        output[i,:] = [vals[i][1],vals[i][2]]\n",
    "    end\n",
    "    \n",
    "    return output\n",
    "end"
   ]
  },
  {
   "cell_type": "code",
   "execution_count": 4,
   "metadata": {},
   "outputs": [],
   "source": [
    "P_points = cleaning(descs1);\n",
    "Q_points = cleaning(descs2);"
   ]
  },
  {
   "cell_type": "code",
   "execution_count": 5,
   "metadata": {},
   "outputs": [
    {
     "data": {
      "text/plain": [
       "29×30 Array{Float64,2}:\n",
       " 17.1347   46.6309   33.0987   26.0223   …  50.3459    8.10832  34.1529 \n",
       " 52.0808   10.8986   34.4478   29.8458      25.7254   49.1058   37.6856 \n",
       " 40.8556   42.8731   11.6735   17.3149      56.9207   44.7755   12.9967 \n",
       " 29.1332   43.1141    1.43056   7.10291     55.3089   33.1111    4.62736\n",
       " 12.6395   63.711    25.5388   26.1198      72.4677   22.8413   23.562  \n",
       " 24.1144   36.0246   28.4803   20.3033   …  41.0251   17.9129   30.4416 \n",
       " 69.1836   12.7581   57.1431   51.3037       8.66254  63.3852   60.3861 \n",
       " 12.1564   55.256    18.3324   17.7326      64.3669   20.1571   17.0281 \n",
       "  7.00818  59.4808   24.8863   23.509       67.4629   16.8839   23.6105 \n",
       " 52.0706    9.93888  35.0591   30.2323      24.6301   48.8685   38.3027 \n",
       " 30.705    37.9359    6.59092   5.13886  …  50.1596   33.0772    9.81896\n",
       " 37.1704   34.1041   11.5563   11.2918      47.4716   38.8814   14.6328 \n",
       " 24.2601   39.5624   33.8381   25.8472      42.5566   15.9307   35.5589 \n",
       "  ⋮                                      ⋱                              \n",
       "  6.28212  52.5085   24.1664   19.984       59.5758   10.4407   24.0062 \n",
       " 46.4153   24.7563   22.9488   21.0358      39.367    46.2222   26.0149 \n",
       " 48.644    40.5266   57.0965   48.7541      33.6993   38.7713   59.3823 \n",
       " 44.8031   13.7715   33.432    26.7294   …  23.3361   40.2959   36.5953 \n",
       " 43.8013   22.2403   22.9921   19.3865      36.1645   42.7812   26.2066 \n",
       " 59.9997   21.3124   56.1922   48.673        9.88339  52.2355   59.216  \n",
       " 10.2362   64.0704   27.5654   27.3188      72.2448   20.5743   25.8221 \n",
       " 39.2535   37.2367   11.3443   13.9303      51.0615   41.8677   13.8991 \n",
       " 65.2723    7.59809  52.0783   46.4605   …  10.8843   59.996    55.3251 \n",
       " 13.8194   44.803    23.4316   16.8654      51.4418   11.4067   24.3667 \n",
       " 45.3239   13.2864   34.1496   27.4307      22.6237   40.6974   37.3119 \n",
       " 54.3216    4.42921  40.1763   34.5312      18.1954   49.9492   43.4204 "
      ]
     },
     "execution_count": 5,
     "metadata": {},
     "output_type": "execute_result"
    }
   ],
   "source": [
    "cost = pairwise(Euclidean(), P_points, Q_points; dims=1)"
   ]
  },
  {
   "cell_type": "code",
   "execution_count": 6,
   "metadata": {},
   "outputs": [],
   "source": [
    "P = ones(size(P_points,1));\n",
    "Q = ones(size(Q_points,1));"
   ]
  },
  {
   "cell_type": "code",
   "execution_count": 8,
   "metadata": {},
   "outputs": [
    {
     "name": "stdout",
     "output_type": "stream",
     "text": [
      "Optimize a model with 60 rows, 870 columns and 2610 nonzeros\n",
      "Variable types: 0 continuous, 870 integer (0 binary)\n",
      "Coefficient statistics:\n",
      "  Matrix range     [1e+00, 1e+00]\n",
      "  Objective range  [9e-01, 7e+01]\n",
      "  Bounds range     [0e+00, 0e+00]\n",
      "  RHS range        [1e+00, 3e+01]\n",
      "Presolve time: 0.01s\n",
      "Presolved: 60 rows, 870 columns, 2610 nonzeros\n",
      "Variable types: 0 continuous, 870 integer (870 binary)\n",
      "\n",
      "Root relaxation: objective 2.621755e+02, 85 iterations, 0.00 seconds\n",
      "\n",
      "    Nodes    |    Current Node    |     Objective Bounds      |     Work\n",
      " Expl Unexpl |  Obj  Depth IntInf | Incumbent    BestBd   Gap | It/Node Time\n",
      "\n",
      "*    0     0               0     262.1754747  262.17547  0.00%     -    0s\n",
      "Optimal solution found at node 0 - now completing solution pool...\n",
      "     0     0          -    0       262.17547  262.17547  0.00%     -    0s\n",
      "     0     0          -    0       262.17547  262.17547  0.00%     -    0s\n",
      "     0     2          -    0       262.17547  262.17547  0.00%     -    0s\n",
      " 40553  7083     cutoff  242       262.17547  263.55727  0.00%   0.9    5s\n",
      " 97771  3247     cutoff  280       262.17547  264.84854  0.00%   1.4   10s\n",
      "\n",
      "Explored 138677 nodes (209977 simplex iterations) in 13.10 seconds\n",
      "Thread count was 4 (of 4 available processors)\n",
      "\n",
      "Solution count 1000: 262.175 262.209 262.23 ... 265.262\n",
      "No other solutions better than 265.238\n",
      "\n",
      "Optimal solution found (tolerance 1.00e-04)\n",
      "Best objective 2.621754747422e+02, best bound 2.621754747422e+02, gap 0.0000%\n"
     ]
    }
   ],
   "source": [
    "solCount = 1000\n",
    "# m = JuMP.direct_model(Gurobi.Optimizer(PoolSearchMode=2, PoolSolutions=solCount, SolutionNumber=0,PoolGap = 0.001))\n",
    "m = JuMP.direct_model(Gurobi.Optimizer(PoolSearchMode=2, PoolSolutions=solCount, SolutionNumber=0))\n",
    "\n",
    "@variable(m, X[axes(cost,1), axes(cost,2)] ≥ 0, Int)\n",
    "@objective(m, Min, cost ⋅ X)\n",
    "@constraint(m,sum(X) .== min(sum(P), sum(Q)))\n",
    "@constraint(m, X * ones(Int, length(Q)) .<= P)\n",
    "@constraint(m, X'ones(Int, length(P)) .<= Q);\n",
    "optimize!(m)\n",
    "solution_pool = zeros(solCount, length(P),length(Q))\n",
    "cnt = 0\n",
    "for i in 0:(solCount-1)\n",
    "    try\n",
    "        setparam!(m.moi_backend.inner,\"SolutionNumber\", i)\n",
    "        \n",
    "        xn = Gurobi.get_dblattrarray(m.moi_backend.inner, \"Xn\", 1, length(X))\n",
    "        xn_val = Gurobi.get_dblattr(m.moi_backend.inner, \"PoolObjVal\")\n",
    "        if(round(xn_val,digits=10) != round(obj, digits=10))\n",
    "            println(xn_val,' ', obj)\n",
    "            break\n",
    "        end\n",
    "        default = zeros(length(P),length(Q))\n",
    "        for i in 0:length(P)-1\n",
    "            default[i+1,:] = xn[(i*length(Q))+1:(i+1)*length(Q)]\n",
    "        end\n",
    "        solution_pool[i+1,:,:] = default\n",
    "        cnt+=1\n",
    "    catch \n",
    "        break\n",
    "    end\n",
    "end\n",
    "sol_pool = deepcopy(solution_pool[1:cnt,:,:]);"
   ]
  },
  {
   "cell_type": "code",
   "execution_count": 13,
   "metadata": {},
   "outputs": [
    {
     "data": {
      "image/png": "[encoded data removed]",
      "text/plain": [
       "Figure(PyObject <Figure size 640x480 with 1 Axes>)"
      ]
     },
     "metadata": {},
     "output_type": "display_data"
    }
   ],
   "source": [
    "solOther = sparse(value.(X))\n",
    "for (x,y,v) in zip(findnz(solOther)...)\n",
    "    x_pos = [P_points'[:,x][1], Q_points'[:,y][1]]\n",
    "    y_pos = [P_points'[:,x][2], Q_points'[:,y][2]]\n",
    "    subplot(122)\n",
    "    scatter(x_pos, y_pos)\n",
    "    plot(x_pos, y_pos)\n",
    "    \n",
    "end"
   ]
  }
 ],
 "metadata": {
  "kernelspec": {
   "display_name": "Julia 1.0.3",
   "language": "julia",
   "name": "julia-1.0"
  },
  "language_info": {
   "file_extension": ".jl",
   "mimetype": "application/julia",
   "name": "julia",
   "version": "1.0.3"
  }
 },
 "nbformat": 4,
 "nbformat_minor": 2
}
