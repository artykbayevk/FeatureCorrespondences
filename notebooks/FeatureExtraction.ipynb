{
 "cells": [
  {
   "cell_type": "code",
   "execution_count": 231,
   "metadata": {},
   "outputs": [],
   "source": [
    "using PyCall\n",
    "using Distances\n",
    "using StatsBase\n",
    "using LinearAlgebra\n",
    "using JuMP\n",
    "using Gurobi\n",
    "using CSV\n",
    "using Distances\n",
    "using PyPlot\n",
    "using SparseArrays\n",
    "using Printf"
   ]
  },
  {
   "cell_type": "code",
   "execution_count": 243,
   "metadata": {},
   "outputs": [],
   "source": [
    "py\"\"\"\n",
    "import numpy as np\n",
    "import cv2\n",
    "\n",
    "\n",
    "class RootSIFT:\n",
    "    def __init__(self):\n",
    "        self.extractor = cv2.xfeatures2d.SIFT_create()\n",
    "\n",
    "    def compute(self, image, kps, eps=1e-7):\n",
    "        (kps, descs) = self.extractor.compute(image, kps)\n",
    "        if len(kps) == 0:\n",
    "            return ([], None)\n",
    "\n",
    "        descs /= (descs.sum(axis=1, keepdims=True) + eps)\n",
    "        descs = np.sqrt(descs)\n",
    "        return (kps, descs)\n",
    "def rootSIFT(img_path):\n",
    "    image = cv2.imread(img_path)\n",
    "    gray = cv2.cvtColor(image, cv2.COLOR_BGR2GRAY)\n",
    "    sift = cv2.xfeatures2d.SIFT_create()\n",
    "    (kps, descs) = sift.detectAndCompute(gray, None)\n",
    "    rs = RootSIFT()\n",
    "    (kps, descs) = rs.compute(gray, kps)\n",
    "\n",
    "    return descs\n",
    "\n",
    "\"\"\"\n",
    "\n",
    "img1_path = \"../data\\\\test\\\\test_1.jpg\"\n",
    "img2_path = \"../data\\\\test\\\\test_2.jpg\"\n",
    "\n",
    "descs1 = py\"rootSIFT\"(img1_path);\n",
    "descs2 = py\"rootSIFT\"(img2_path);"
   ]
  },
  {
   "cell_type": "code",
   "execution_count": 260,
   "metadata": {},
   "outputs": [
    {
     "data": {
      "text/plain": [
       "36×37 Array{Float32,2}:\n",
       " 1.03707   0.758385  0.954285  0.897025  …  0.82175   0.900018  0.870877\n",
       " 1.06751   0.812301  0.948864  0.934764     0.896925  0.887612  0.80029 \n",
       " 0.911025  0.747179  0.742196  1.03903      0.818866  0.823335  0.910128\n",
       " 0.985357  1.01972   1.01152   0.957808     0.906323  0.937984  0.954617\n",
       " 0.780923  0.974776  0.949937  1.03064      1.02854   1.03817   1.01997 \n",
       " 0.932993  0.832282  0.773582  0.684676  …  0.842932  0.782594  0.942967\n",
       " 0.873618  1.00487   1.02046   1.16965      0.894259  0.988821  0.98403 \n",
       " 1.01373   0.758578  0.743826  0.952549     0.79761   0.749669  0.903804\n",
       " 1.03989   0.736468  0.699093  0.929248     0.764214  0.716332  0.926073\n",
       " 1.0574    0.854865  1.00997   0.948132     0.906436  0.949825  0.956225\n",
       " 1.03778   0.973754  0.943744  0.84878   …  0.875354  0.786158  0.901227\n",
       " 0.861043  0.936131  0.859931  0.769906     0.873672  0.667005  0.826686\n",
       " 1.00314   0.930922  0.946456  0.874922     0.920634  0.814508  0.66734 \n",
       " ⋮                                       ⋱            ⋮                 \n",
       " 0.954578  0.936957  0.973417  1.06521      0.833234  0.92322   0.90056 \n",
       " 1.01254   0.778551  0.85005   0.838743  …  0.766537  0.841499  0.785742\n",
       " 0.97467   0.646064  0.723038  0.905012     0.698772  0.720216  0.853029\n",
       " 0.94479   0.869775  0.824719  0.944194     0.800753  0.790737  0.8106  \n",
       " 0.942414  0.904188  0.915598  1.02436      0.696861  0.765551  0.745805\n",
       " 1.0295    0.928915  0.866936  1.01415      0.902592  0.740111  0.792271\n",
       " 0.999189  0.860396  0.935469  1.04483   …  0.839177  0.808883  0.687957\n",
       " 0.970455  0.899269  0.814122  0.888991     0.762506  0.685696  0.817453\n",
       " 0.989945  0.772726  0.918381  0.949275     0.788934  0.799452  0.674789\n",
       " 0.989462  0.875555  0.921507  0.770635     0.834344  0.591535  0.425798\n",
       " 0.886702  0.772022  0.811636  0.895212     0.715118  0.769381  0.818715\n",
       " 0.921671  0.780765  0.896666  0.879691  …  0.545323  0.668934  0.633906"
      ]
     },
     "execution_count": 260,
     "metadata": {},
     "output_type": "execute_result"
    }
   ],
   "source": [
    "cost = pairwise(Euclidean(), descs1, descs2; dims=1)"
   ]
  },
  {
   "cell_type": "code",
   "execution_count": 235,
   "metadata": {},
   "outputs": [],
   "source": [
    "P = ones(size(descs1,1));\n",
    "Q = ones(size(descs2,1));"
   ]
  },
  {
   "cell_type": "code",
   "execution_count": 236,
   "metadata": {},
   "outputs": [
    {
     "name": "stdout",
     "output_type": "stream",
     "text": [
      "Optimize a model with 73 rows, 1296 columns and 3888 nonzeros\r\n",
      "Variable types: 0 continuous, 1296 integer (0 binary)\r\n",
      "Coefficient statistics:\r\n",
      "  Matrix range     [1e+00, 1e+00]\r\n",
      "  Objective range  [3e-04, 1e+00]\r\n",
      "  Bounds range     [0e+00, 0e+00]\r\n",
      "  RHS range        [1e+00, 4e+01]\r\n",
      "Presolve time: 0.00s\r\n",
      "Presolved: 73 rows, 1296 columns, 3888 nonzeros\r\n",
      "Variable types: 0 continuous, 1296 integer (1296 binary)\r\n",
      "Found heuristic solution: objective 0.0013218\r\n",
      "\r\n",
      "Root relaxation: objective 1.321829e-03, 1 iterations, 0.00 seconds\r\n",
      "\r\n",
      "    Nodes    |    Current Node    |     Objective Bounds      |     Work\r\n",
      " Expl Unexpl |  Obj  Depth IntInf | Incumbent    BestBd   Gap | It/Node Time\r\n",
      "\r\n",
      "     0     0          -    0         0.00132    0.00132  0.00%     -    0s\r\n",
      "Optimal solution found at node 0 - now completing solution pool...\r\n",
      "     0     0          -    0         0.00132    0.00132  0.00%     -    0s\r\n",
      "     0     0          -    0         0.00132    0.00132  0.00%     -    0s\r\n",
      "     0     2          -    0         0.00132    0.00132  0.00%     -    0s\r\n",
      "\r\n",
      "Explored 71 nodes (208 simplex iterations) in 0.02 seconds\r\n",
      "Thread count was 20 (of 20 available processors)\r\n",
      "\r\n",
      "Solution count 1: 0.00132183 \r\n",
      "No other solutions better than 1e+100\r\n",
      "\r\n",
      "Optimal solution found (tolerance 1.00e-04)\r\n",
      "Best objective 1.321829477092e-03, best bound 1.321829477092e-03, gap 0.0000%\r\n"
     ]
    }
   ],
   "source": [
    "solCount = 1000\n",
    "m = JuMP.direct_model(Gurobi.Optimizer(PoolSearchMode=2, PoolSolutions=solCount, SolutionNumber=0,PoolGap = 0.0001))\n",
    "\n",
    "@variable(m, X[axes(cost,1), axes(cost,2)] ≥ 0, Int)\n",
    "@objective(m, Min, cost ⋅ X)\n",
    "@constraint(m,sum(X) .== min(sum(P), sum(Q)))\n",
    "@constraint(m, X * ones(Int, length(Q)) .<= P)\n",
    "@constraint(m, X'ones(Int, length(P)) .<= Q);\n",
    "optimize!(m)\n",
    "solution_pool = zeros(solCount, length(P),length(Q))\n",
    "cnt = 0\n",
    "for i in 0:(solCount-1)\n",
    "    try\n",
    "        setparam!(m.moi_backend.inner,\"SolutionNumber\", i)\n",
    "        \n",
    "        xn = Gurobi.get_dblattrarray(m.moi_backend.inner, \"Xn\", 1, length(X))\n",
    "        xn_val = Gurobi.get_dblattr(m.moi_backend.inner, \"PoolObjVal\")\n",
    "        \n",
    "        default = zeros(length(P),length(Q))\n",
    "        for i in 0:length(P)-1\n",
    "            default[i+1,:] = xn[(i*length(Q))+1:(i+1)*length(Q)]\n",
    "        end\n",
    "        solution_pool[i+1,:,:] = default\n",
    "        cnt+=1\n",
    "    catch \n",
    "        break\n",
    "    end\n",
    "end\n",
    "sol_pool = deepcopy(solution_pool[1:cnt,:,:]);"
   ]
  }
 ],
 "metadata": {
  "kernelspec": {
   "display_name": "Julia 1.1.1",
   "language": "julia",
   "name": "julia-1.1"
  },
  "language_info": {
   "file_extension": ".jl",
   "mimetype": "application/julia",
   "name": "julia",
   "version": "1.1.1"
  }
 },
 "nbformat": 4,
 "nbformat_minor": 2
}
