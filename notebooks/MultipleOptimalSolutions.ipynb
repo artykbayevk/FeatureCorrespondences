{
 "cells": [
  {
   "cell_type": "code",
   "execution_count": 3,
   "metadata": {},
   "outputs": [],
   "source": [
    "using StatsBase\n",
    "using LinearAlgebra\n",
    "using JuMP\n",
    "using Gurobi\n",
    "using CSV\n",
    "using Distances\n",
    "using PyPlot\n",
    "using SparseArrays\n",
    "using Printf"
   ]
  },
  {
   "cell_type": "code",
   "execution_count": 4,
   "metadata": {},
   "outputs": [
    {
     "data": {
      "text/plain": [
       "10×15 Array{Float64,2}:\n",
       " 1.0229     0.677566   0.428857  0.579925  …  0.0346284  0.824987  0.703549 \n",
       " 0.361995   0.61484    0.627808  0.197929     0.787358   0.802628  0.687482 \n",
       " 0.351475   0.309723   0.401823  0.377605     0.725123   0.490553  0.381741 \n",
       " 0.884886   0.947201   0.808645  0.363085     0.643737   1.14577   1.00985  \n",
       " 0.165176   0.569759   0.66239   0.383111     0.916706   0.731028  0.639272 \n",
       " 0.0775899  0.594759   0.763673  0.611805  …  1.09229    0.703135  0.651299 \n",
       " 0.647797   0.31369    0.168416  0.386813     0.432245   0.501664  0.365136 \n",
       " 0.610726   0.0226398  0.232834  0.609459     0.673578   0.216727  0.0836464\n",
       " 0.247094   0.799489   0.891679  0.51658      1.10835    0.951494  0.867673 \n",
       " 0.683834   0.852201   0.769965  0.228235     0.731961   1.05162   0.921192 "
      ]
     },
     "execution_count": 4,
     "metadata": {},
     "output_type": "execute_result"
    }
   ],
   "source": [
    "struct Pile\n",
    "    points::Matrix{Float64} # 2 x n matrix where each column is a point\n",
    "    weights::Vector{Float64}\n",
    "end\n",
    "Base.length(p::Pile) = length(p.weights)\n",
    "\n",
    "function Base.rand(::Type{Pile}; n_points = rand(1:5),\n",
    "                                 points = rand(2,n_points),\n",
    "                                use_rand = true)\n",
    "    if use_rand\n",
    "        \n",
    "        weights = rand(n_points)\n",
    "#         weights = weights/sum(weights)\n",
    "    else\n",
    "        weights = ones(n_points)\n",
    "#         weights = weights/sum(weights)\n",
    "    end\n",
    "    return Pile(points, weights)\n",
    "end\n",
    "\n",
    "P = rand(Pile, n_points = 10, use_rand = false)\n",
    "Q = rand(Pile, n_points = 15, use_rand = false)\n",
    "cost = pairwise(Euclidean(), P.points, Q.points; dims=2)"
   ]
  },
  {
   "cell_type": "code",
   "execution_count": 3,
   "metadata": {},
   "outputs": [
    {
     "data": {
      "text/plain": [
       "7×25 Array{Float64,2}:\n",
       " 1.80278  2.35432   2.88314   3.3434    …  0.901387  1.28862   1.80278\n",
       " 1.41421  1.90939   2.41091   2.85666      0.901387  1.02839   1.41421\n",
       " 1.11803  1.49958   1.95256   2.37545      1.14564   0.977055  1.11803\n",
       " 1.0      1.16262   1.52069   1.90394      1.52069   1.16262   1.0    \n",
       " 1.11803  0.977055  1.14564   1.45163      1.95256   1.49958   1.11803\n",
       " 1.41421  1.02839   0.901387  1.04378   …  2.41091   1.90939   1.41421\n",
       " 1.80278  1.28862   0.901387  0.756108     2.88314   2.35432   1.80278"
      ]
     },
     "execution_count": 3,
     "metadata": {},
     "output_type": "execute_result"
    }
   ],
   "source": [
    "P_dat = CSV.read(\"../data/artificial/P.csv\"; header=false)\n",
    "P_points = convert(Matrix, P_dat)'\n",
    "\n",
    "\n",
    "Q_dat = CSV.read(\"../data/artificial/Q.csv\"; header=false)\n",
    "Q_points = convert(Matrix, Q_dat)'\n",
    "\n",
    "P = rand(Pile, n_points = size(P_points)[2], points = P_points,use_rand = false)\n",
    "Q = rand(Pile, n_points = size(Q_points)[2], points = Q_points, use_rand = false)\n",
    "\n",
    "cost = pairwise(Euclidean(), P.points, Q.points; dims=2)"
   ]
  },
  {
   "cell_type": "code",
   "execution_count": 5,
   "metadata": {},
   "outputs": [
    {
     "name": "stdout",
     "output_type": "stream",
     "text": [
      "Optimize a model with 26 rows, 150 columns and 450 nonzeros\n",
      "Variable types: 0 continuous, 150 integer (0 binary)\n",
      "Coefficient statistics:\n",
      "  Matrix range     [1e+00, 1e+00]\n",
      "  Objective range  [2e-02, 1e+00]\n",
      "  Bounds range     [0e+00, 0e+00]\n",
      "  RHS range        [1e+00, 1e+01]\n",
      "Presolve time: 0.01s\n",
      "Presolved: 26 rows, 150 columns, 450 nonzeros\n",
      "Variable types: 0 continuous, 150 integer (150 binary)\n",
      "\n",
      "Root relaxation: objective 1.336463e+00, 16 iterations, 0.00 seconds\n",
      "\n",
      "    Nodes    |    Current Node    |     Objective Bounds      |     Work\n",
      " Expl Unexpl |  Obj  Depth IntInf | Incumbent    BestBd   Gap | It/Node Time\n",
      "\n",
      "*    0     0               0       1.3364631    1.33646  0.00%     -    0s\n",
      "Optimal solution found at node 0 - now completing solution pool...\n",
      "     0     0          -    0         1.33646    1.33646  0.00%     -    0s\n",
      "     0     0          -    0         1.33646    1.33646  0.00%     -    0s\n",
      "     0     2          -    0         1.33646    1.33646  0.00%     -    0s\n",
      "\n",
      "Explored 28111 nodes (15724 simplex iterations) in 1.00 seconds\n",
      "Thread count was 4 (of 4 available processors)\n",
      "\n",
      "Solution count 1000: 1.33646 1.37604 1.39747 ... 1.77101\n",
      "No other solutions better than 1.77101\n",
      "\n",
      "Optimal solution found (tolerance 1.00e-04)\n",
      "Best objective 1.336463092254e+00, best bound 1.336463092254e+00, gap 0.0000%\n",
      "1.3364630922536058\n",
      "1.3760388561522974 1.3364630922536058\n"
     ]
    }
   ],
   "source": [
    "solCount = 1000\n",
    "m = JuMP.direct_model(Gurobi.Optimizer(PoolSearchMode=2, PoolSolutions=solCount, SolutionNumber=0))\n",
    "\n",
    "@variable(m, X[axes(cost,1), axes(cost,2)] ≥ 0, Int)\n",
    "@objective(m, Min, cost ⋅ X)\n",
    "@constraint(m,sum(X) .== min(sum(P.weights), sum(Q.weights)))\n",
    "@constraint(m, X * ones(Int, length(Q)) .<= P.weights)\n",
    "@constraint(m, X'ones(Int, length(P)) .<= Q.weights);\n",
    "optimize!(m)\n",
    "obj = objective_value(m)\n",
    "println(obj)\n",
    "# solution = value.(X)\n",
    "\n",
    "solution_pool = zeros(solCount, length(P),length(Q))\n",
    "cnt = 0\n",
    "for i in 0:(solCount-1)\n",
    "    try\n",
    "        setparam!(m.moi_backend.inner,\"SolutionNumber\", i)\n",
    "        \n",
    "        xn = Gurobi.get_dblattrarray(m.moi_backend.inner, \"Xn\", 1, length(X))\n",
    "        xn_val = Gurobi.get_dblattr(m.moi_backend.inner, \"PoolObjVal\")\n",
    "        if(round(xn_val,digits=10) != round(obj, digits=10))\n",
    "            println(xn_val,' ', obj)\n",
    "            break\n",
    "        end\n",
    "        default = zeros(length(P),length(Q))\n",
    "        for i in 0:length(P)-1\n",
    "            default[i+1,:] = xn[(i*length(Q))+1:(i+1)*length(Q)]\n",
    "        end\n",
    "        solution_pool[i+1,:,:] = default\n",
    "        cnt+=1\n",
    "    catch \n",
    "        break\n",
    "    end\n",
    "end\n",
    "sol_pool = deepcopy(solution_pool[1:cnt,:,:]);"
   ]
  },
  {
   "cell_type": "code",
   "execution_count": 7,
   "metadata": {},
   "outputs": [
    {
     "data": {
      "text/plain": [
       "(1, 10, 15)"
      ]
     },
     "execution_count": 7,
     "metadata": {},
     "output_type": "execute_result"
    }
   ],
   "source": [
    "size(sol_pool)"
   ]
  },
  {
   "cell_type": "code",
   "execution_count": 8,
   "metadata": {},
   "outputs": [
    {
     "data": {
      "image/png": "[encoded data removed]",
      "text/plain": [
       "Figure(PyObject <Figure size 600x600 with 1 Axes>)"
      ]
     },
     "metadata": {},
     "output_type": "display_data"
    }
   ],
   "source": [
    "fig = figure(\"pyplot_scatterplot\",figsize=(6,6))\n",
    "ax = PyPlot.axes()\n",
    "subplot(122)\n",
    "# ax = fig[:add_subplot](1,2,2);\n",
    "scatter(P.points[1,:],P.points[2,:],alpha=0.7)\n",
    "scatter(Q.points[1,:],Q.points[2,:],alpha=0.7)\n",
    "\n",
    "PyPlot.title(\"Scatter Plot\")\n",
    "xlabel(\"X\")\n",
    "ylabel(\"Y\")\n",
    "grid(true)\n",
    "# gcf() # Needed for IJulia to plot inline"
   ]
  },
  {
   "cell_type": "code",
   "execution_count": 9,
   "metadata": {},
   "outputs": [
    {
     "data": {
      "image/png": "[encoded data removed]",
      "text/plain": [
       "Figure(PyObject <Figure size 640x480 with 1 Axes>)"
      ]
     },
     "metadata": {},
     "output_type": "display_data"
    }
   ],
   "source": [
    "solOther = sparse(sol_pool[rand(1:cnt),:,:])\n",
    "for (x,y,v) in zip(findnz(solOther)...)\n",
    "    \n",
    "    x_pos = [P.points[:,x][1], Q.points[:,y][1]]\n",
    "    y_pos = [P.points[:,x][2], Q.points[:,y][2]]\n",
    "    subplot(122)\n",
    "    scatter(x_pos, y_pos)\n",
    "    plot(x_pos, y_pos)\n",
    "end"
   ]
  }
 ],
 "metadata": {
  "@webio": {
   "lastCommId": null,
   "lastKernelId": null
  },
  "celltoolbar": "Raw Cell Format",
  "kernelspec": {
   "display_name": "Julia 1.0.3",
   "language": "julia",
   "name": "julia-1.0"
  },
  "language_info": {
   "file_extension": ".jl",
   "mimetype": "application/julia",
   "name": "julia",
   "version": "1.0.3"
  }
 },
 "nbformat": 4,
 "nbformat_minor": 2
}
