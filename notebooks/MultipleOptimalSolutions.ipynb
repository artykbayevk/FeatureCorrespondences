{
 "cells": [
  {
   "cell_type": "code",
   "execution_count": 1,
   "metadata": {},
   "outputs": [],
   "source": [
    "using StatsBase\n",
    "using LinearAlgebra\n",
    "using JuMP\n",
    "using Gurobi\n",
    "using CSV\n",
    "using Distances\n",
    "using PyPlot\n",
    "using SparseArrays\n",
    "using Printf\n",
    "using DataFrames"
   ]
  },
  {
   "cell_type": "code",
   "execution_count": 2,
   "metadata": {},
   "outputs": [
    {
     "data": {
      "text/plain": [
       "10×15 Array{Float64,2}:\n",
       " 0.336138   0.541457  0.389459  0.698314  …  0.487582  0.409233  0.131152\n",
       " 0.0961621  0.689887  0.384739  0.833445     0.729194  0.237664  0.372118\n",
       " 0.830872   0.291178  0.868145  0.389724     0.210769  0.811548  0.410885\n",
       " 0.670735   0.619126  0.499443  0.766866     0.2616    0.751564  0.249939\n",
       " 0.324942   0.652526  0.760591  0.744036     0.914894  0.14096   0.605194\n",
       " 0.389282   0.753157  0.834495  0.833822  …  1.02802   0.222999  0.715465\n",
       " 0.840216   0.3017    1.13405   0.226656     0.776885  0.700006  0.71399 \n",
       " 0.597472   0.34832   0.627234  0.5015       0.239829  0.609298  0.161571\n",
       " 0.755901   0.15468   1.00907   0.148107     0.628336  0.639808  0.572592\n",
       " 0.909202   0.616798  0.76754   0.730513     0.14288   0.957773  0.44966 "
      ]
     },
     "execution_count": 2,
     "metadata": {},
     "output_type": "execute_result"
    }
   ],
   "source": [
    "struct Pile\n",
    "    points::Matrix{Float64} # 2 x n matrix where each column is a point\n",
    "    weights::Vector{Float64}\n",
    "end\n",
    "Base.length(p::Pile) = length(p.weights)\n",
    "\n",
    "function Base.rand(::Type{Pile}; n_points = rand(1:5),\n",
    "                                 points = rand(2,n_points),\n",
    "                                use_rand = true)\n",
    "    if use_rand\n",
    "        \n",
    "        weights = rand(n_points)\n",
    "#         weights = weights/sum(weights)\n",
    "    else\n",
    "        weights = ones(n_points)\n",
    "#         weights = weights/sum(weights)\n",
    "    end\n",
    "    return Pile(points, weights)\n",
    "end\n",
    "\n",
    "P = rand(Pile, n_points = 10, use_rand = false)\n",
    "Q = rand(Pile, n_points = 15, use_rand = false)\n",
    "cost = pairwise(Euclidean(), P.points, Q.points; dims=2)"
   ]
  },
  {
   "cell_type": "code",
   "execution_count": 10,
   "metadata": {},
   "outputs": [
    {
     "data": {
      "text/plain": [
       "7×23 Array{Float64,2}:\n",
       " 1.80278  2.4041    2.9731    3.45206   …  0.854242  1.24648   1.80278\n",
       " 1.41421  1.95586   2.49755   2.96265      0.911774  1.00402   1.41421\n",
       " 1.11803  1.53982   2.03375   2.47749      1.19705   0.981009  1.11803\n",
       " 1.0      1.19026   1.59202   1.99964      1.59202   1.19026   1.0    \n",
       " 1.11803  0.981009  1.19705   1.53597      2.03375   1.53982   1.11803\n",
       " 1.41421  1.00402   0.911774  1.10446   …  2.49755   1.95586   1.41421\n",
       " 1.80278  1.24648   0.854242  0.761876     2.9731    2.4041    1.80278"
      ]
     },
     "execution_count": 10,
     "metadata": {},
     "output_type": "execute_result"
    }
   ],
   "source": [
    "P_dat = CSV.read(\"../data/artificial/P_new.csv\"; header=false)\n",
    "P_points = convert(Matrix, P_dat)'\n",
    "\n",
    "\n",
    "Q_dat = CSV.read(\"../data/artificial/Q_new.csv\"; header=false)\n",
    "Q_points = convert(Matrix, Q_dat)'\n",
    "\n",
    "P = rand(Pile, n_points = size(P_points)[2], points = P_points,use_rand = false)\n",
    "Q = rand(Pile, n_points = size(Q_points)[2], points = Q_points, use_rand = false)\n",
    "\n",
    "cost = pairwise(Euclidean(), P.points, Q.points; dims=2)"
   ]
  },
  {
   "cell_type": "code",
   "execution_count": 11,
   "metadata": {},
   "outputs": [
    {
     "name": "stdout",
     "output_type": "stream",
     "text": [
      "Optimize a model with 31 rows, 161 columns and 483 nonzeros\r\n",
      "Variable types: 0 continuous, 161 integer (0 binary)\r\n",
      "Coefficient statistics:\r\n",
      "  Matrix range     [1e+00, 1e+00]\r\n",
      "  Objective range  [8e-01, 4e+00]\r\n",
      "  Bounds range     [0e+00, 0e+00]\r\n",
      "  RHS range        [1e+00, 7e+00]\r\n",
      "Presolve time: 0.00s\r\n",
      "Presolved: 31 rows, 161 columns, 483 nonzeros\r\n",
      "Variable types: 0 continuous, 161 integer (161 binary)\r\n",
      "\r\n",
      "Root relaxation: objective 6.309317e+00, 10 iterations, 0.00 seconds\r\n",
      "\r\n",
      "    Nodes    |    Current Node    |     Objective Bounds      |     Work\r\n",
      " Expl Unexpl |  Obj  Depth IntInf | Incumbent    BestBd   Gap | It/Node Time\r\n",
      "\r\n",
      "*    0     0               0       6.3093165    6.30932  0.00%     -    0s\r\n",
      "Optimal solution found at node 0 - now completing solution pool...\r\n",
      "     0     0          -    0         6.30932    6.30932  0.00%     -    0s\r\n",
      "     0     0          -    0         6.30932    6.30932  0.00%     -    0s\r\n",
      "     0     2          -    0         6.30932    6.30932  0.00%     -    0s\r\n",
      "\r\n",
      "Explored 107208 nodes (21403 simplex iterations) in 4.57 seconds\r\n",
      "Thread count was 20 (of 20 available processors)\r\n",
      "\r\n",
      "Solution count 6000: 6.30932 6.30932 6.30932 ... 6.59437\r\n",
      "No other solutions better than 6.59437\r\n",
      "\r\n",
      "Optimal solution found (tolerance 1.00e-04)\r\n",
      "Best objective 6.309316539729e+00, best bound 6.309316539729e+00, gap 0.0000%\r\n",
      "192 solution(s) selected\n"
     ]
    }
   ],
   "source": [
    "solCount = 6000\n",
    "m = JuMP.direct_model(Gurobi.Optimizer(PoolSearchMode=2, PoolSolutions=solCount, SolutionNumber=0))\n",
    "\n",
    "@variable(m, X[axes(cost,1), axes(cost,2)] ≥ 0, Int)\n",
    "@objective(m, Min, cost ⋅ X)\n",
    "@constraint(m,sum(X) .== min(sum(P.weights), sum(Q.weights)))\n",
    "@constraint(m, X * ones(Int, length(Q)) .<= P.weights)\n",
    "@constraint(m, X'ones(Int, length(P)) .<= Q.weights);\n",
    "optimize!(m)\n",
    "obj = objective_value(m)\n",
    "\n",
    "solution_pool = zeros(solCount, length(P),length(Q))\n",
    "cnt = 0\n",
    "obj = objective_value(m)\n",
    "\n",
    "for i in 0:(solCount-1)\n",
    "    try\n",
    "        setparam!(m.moi_backend.inner,\"SolutionNumber\", i)\n",
    "        xn = Gurobi.get_dblattrarray(m.moi_backend.inner, \"Xn\", 1, length(X))\n",
    "        xn_val = Gurobi.get_dblattr(m.moi_backend.inner, \"PoolObjVal\")\n",
    "        if(round(xn_val,digits=1) != round(obj, digits=1))\n",
    "            println(cnt , \" solution(s) selected\")\n",
    "            break\n",
    "        end\n",
    "        default = zeros(length(P),length(Q))\n",
    "        for i in 0:length(P)-1\n",
    "            default[i+1,:] = xn[(i*length(Q))+1:(i+1)*length(Q)]\n",
    "        end\n",
    "        solution_pool[i+1,:,:] = default\n",
    "        cnt+=1\n",
    "    catch \n",
    "        break\n",
    "    end\n",
    "end\n",
    "sol_pool = deepcopy(solution_pool[1:cnt,:,:]);\n"
   ]
  },
  {
   "cell_type": "code",
   "execution_count": 12,
   "metadata": {},
   "outputs": [
    {
     "data": {
      "text/plain": [
       "(192, 7, 23)"
      ]
     },
     "execution_count": 12,
     "metadata": {},
     "output_type": "execute_result"
    }
   ],
   "source": [
    "size(sol_pool)"
   ]
  },
  {
   "cell_type": "code",
   "execution_count": 13,
   "metadata": {},
   "outputs": [
    {
     "data": {
      "image/png": "[encoded data removed]",
      "text/plain": [
       "Figure(PyObject <Figure size 600x600 with 1 Axes>)"
      ]
     },
     "metadata": {},
     "output_type": "display_data"
    }
   ],
   "source": [
    "fig = figure(\"pyplot_scatterplot\",figsize=(6,6))\n",
    "ax = PyPlot.axes()\n",
    "subplot(122)\n",
    "# ax = fig[:add_subplot](1,2,2);\n",
    "scatter(P.points[1,:],P.points[2,:],alpha=0.7)\n",
    "scatter(Q.points[1,:],Q.points[2,:],alpha=0.7)\n",
    "\n",
    "PyPlot.title(\"Scatter Plot\")\n",
    "xlabel(\"X\")\n",
    "ylabel(\"Y\")\n",
    "grid(true)\n",
    "# gcf() # Needed for IJulia to plot inline"
   ]
  },
  {
   "cell_type": "code",
   "execution_count": 14,
   "metadata": {},
   "outputs": [
    {
     "data": {
      "image/png": "[encoded data removed]",
      "text/plain": [
       "Figure(PyObject <Figure size 640x480 with 1 Axes>)"
      ]
     },
     "metadata": {},
     "output_type": "display_data"
    }
   ],
   "source": [
    "solOther = sparse(sol_pool[rand(1:cnt),:,:])\n",
    "for (x,y,v) in zip(findnz(solOther)...)\n",
    "    \n",
    "    x_pos = [P.points[:,x][1], Q.points[:,y][1]]\n",
    "    y_pos = [P.points[:,x][2], Q.points[:,y][2]]\n",
    "    subplot(122)\n",
    "    scatter(x_pos, y_pos)\n",
    "    plot(x_pos, y_pos)\n",
    "end"
   ]
  },
  {
   "cell_type": "code",
   "execution_count": 15,
   "metadata": {},
   "outputs": [
    {
     "name": "stdout",
     "output_type": "stream",
     "text": [
      "Count of solutions:192\n"
     ]
    },
    {
     "data": {
      "text/plain": [
       "\"../data/artificial/solutions.csv\""
      ]
     },
     "execution_count": 15,
     "metadata": {},
     "output_type": "execute_result"
    }
   ],
   "source": [
    "allSolutions = zeros(cnt, size(P.points)[2]*4)\n",
    "\n",
    "for index in 1:cnt\n",
    "    solOther = sparse(sol_pool[index,:,:])\n",
    "    line = zeros(0)\n",
    "    for (x,y,v) in zip(findnz(solOther)...)\n",
    "        P_pos = [P.points[:,x][1], P.points[:,x][2]]\n",
    "        Q_pos = [Q.points[:,y][1], Q.points[:,y][2]]\n",
    "        append!(line, P_pos)\n",
    "        append!(line, Q_pos)\n",
    "    end\n",
    "    allSolutions[index,:] = line\n",
    "end\n",
    "df = DataFrame(allSolutions)\n",
    "println(\"Count of solutions:$(size(df)[1])\")\n",
    "CSV.write(\"../data/artificial/solutions.csv\",  df, writeheader=false)"
   ]
  }
 ],
 "metadata": {
  "@webio": {
   "lastCommId": null,
   "lastKernelId": null
  },
  "celltoolbar": "Raw Cell Format",
  "kernelspec": {
   "display_name": "Julia 1.1.1",
   "language": "julia",
   "name": "julia-1.1"
  },
  "language_info": {
   "file_extension": ".jl",
   "mimetype": "application/julia",
   "name": "julia",
   "version": "1.1.1"
  }
 },
 "nbformat": 4,
 "nbformat_minor": 2
}
