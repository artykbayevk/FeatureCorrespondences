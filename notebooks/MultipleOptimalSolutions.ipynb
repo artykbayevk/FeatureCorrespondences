{
 "cells": [
  {
   "cell_type": "code",
   "execution_count": 2,
   "metadata": {},
   "outputs": [],
   "source": [
    "using StatsBase\n",
    "using LinearAlgebra\n",
    "using JuMP\n",
    "using Gurobi\n",
    "using CSV\n",
    "using Distances\n",
    "using PyPlot\n",
    "using SparseArrays\n",
    "using Printf"
   ]
  },
  {
   "cell_type": "code",
   "execution_count": 5,
   "metadata": {},
   "outputs": [],
   "source": [
    "struct Pile\n",
    "    points::Matrix{Float64} # 2 x n matrix where each column is a point\n",
    "    weights::Vector{Float64}\n",
    "end\n",
    "Base.length(p::Pile) = length(p.weights)\n",
    "\n",
    "function Base.rand(::Type{Pile}; n_points = rand(1:5),\n",
    "                                 points = rand(2,n_points),\n",
    "                                use_rand = true)\n",
    "    if use_rand\n",
    "        \n",
    "        weights = rand(n_points)\n",
    "#         weights = weights/sum(weights)\n",
    "    else\n",
    "        weights = ones(n_points)\n",
    "#         weights = weights/sum(weights)\n",
    "    end\n",
    "    return Pile(points, weights)\n",
    "end\n"
   ]
  },
  {
   "cell_type": "code",
   "execution_count": 8,
   "metadata": {},
   "outputs": [],
   "source": [
    "P_dat = CSV.read(\"../data/artificial/P.csv\"; header=false)\n",
    "P_points = convert(Matrix, P_dat)'\n",
    "\n",
    "\n",
    "Q_dat = CSV.read(\"../data/artificial/Q.csv\"; header=false)\n",
    "Q_points = convert(Matrix, Q_dat)'\n",
    "\n",
    "P = rand(Pile, n_points = size(P_points)[2], points = P_points,use_rand = false)\n",
    "Q = rand(Pile, n_points = size(Q_points)[2], points = Q_points, use_rand = false)\n",
    "\n",
    "cost = pairwise(Euclidean(), P.points, Q.points; dims=2)"
   ]
  },
  {
   "cell_type": "code",
   "execution_count": 16,
   "metadata": {},
   "outputs": [
    {
     "name": "stdout",
     "output_type": "stream",
     "text": [
      "Optimize a model with 33 rows, 175 columns and 525 nonzeros\r\n",
      "Variable types: 0 continuous, 175 integer (0 binary)\r\n",
      "Coefficient statistics:\r\n",
      "  Matrix range     [1e+00, 1e+00]\r\n",
      "  Objective range  [8e-01, 4e+00]\r\n",
      "  Bounds range     [0e+00, 0e+00]\r\n",
      "  RHS range        [1e+00, 7e+00]\r\n",
      "Presolve time: 0.00s\r\n",
      "Presolved: 33 rows, 175 columns, 525 nonzeros\r\n",
      "Variable types: 0 continuous, 175 integer (175 binary)\r\n",
      "\r\n",
      "Root relaxation: objective 6.269101e+00, 10 iterations, 0.00 seconds\r\n",
      "\r\n",
      "    Nodes    |    Current Node    |     Objective Bounds      |     Work\r\n",
      " Expl Unexpl |  Obj  Depth IntInf | Incumbent    BestBd   Gap | It/Node Time\r\n",
      "\r\n",
      "*    0     0               0       6.2691008    6.26910  0.00%     -    0s\r\n",
      "Optimal solution found at node 0 - now completing solution pool...\r\n",
      "     0     0          -    0         6.26910    6.26910  0.00%     -    0s\r\n",
      "     0     0          -    0         6.26910    6.26910  0.00%     -    0s\r\n",
      "     0     2          -    0         6.26910    6.26910  0.00%     -    0s\r\n",
      "\r\n",
      "Explored 3857 nodes (344 simplex iterations) in 0.03 seconds\r\n",
      "Thread count was 20 (of 20 available processors)\r\n",
      "\r\n",
      "Solution count 192: 6.2691 6.2691 6.2691 ... 6.2691\r\n",
      "No other solutions better than 1e+100\r\n",
      "\r\n",
      "Optimal solution found (tolerance 1.00e-04)\r\n",
      "Best objective 6.269100755344e+00, best bound 6.269100755344e+00, gap 0.0000%\r\n"
     ]
    }
   ],
   "source": [
    "solCount = 1000\n",
    "m = JuMP.direct_model(Gurobi.Optimizer(PoolSearchMode=2, PoolSolutions=solCount, SolutionNumber=0,PoolGap = 0.01))\n",
    "\n",
    "@variable(m, X[axes(cost,1), axes(cost,2)] ≥ 0, Int)\n",
    "@objective(m, Min, cost ⋅ X)\n",
    "@constraint(m,sum(X) .== min(sum(P.weights), sum(Q.weights)))\n",
    "@constraint(m, X * ones(Int, length(Q)) .<= P.weights)\n",
    "@constraint(m, X'ones(Int, length(P)) .<= Q.weights);\n",
    "optimize!(m)\n",
    "# solution = value.(X)\n",
    "\n",
    "solution_pool = zeros(solCount, length(P),length(Q))\n",
    "cnt = 0\n",
    "for i in 0:(solCount-1)\n",
    "    try\n",
    "        setparam!(m.moi_backend.inner,\"SolutionNumber\", i)\n",
    "        \n",
    "        xn = Gurobi.get_dblattrarray(m.moi_backend.inner, \"Xn\", 1, length(X))\n",
    "        xn_val = Gurobi.get_dblattr(m.moi_backend.inner, \"PoolObjVal\")\n",
    "        \n",
    "        default = zeros(length(P),length(Q))\n",
    "        for i in 0:length(P)-1\n",
    "            default[i+1,:] = xn[(i*length(Q))+1:(i+1)*length(Q)]\n",
    "        end\n",
    "        solution_pool[i+1,:,:] = default\n",
    "        cnt+=1\n",
    "    catch \n",
    "        break\n",
    "    end\n",
    "end\n",
    "sol_pool = deepcopy(solution_pool[1:cnt,:,:]);"
   ]
  },
  {
   "cell_type": "code",
   "execution_count": 17,
   "metadata": {},
   "outputs": [
    {
     "data": {
      "image/png": "[encoded data removed]",
      "text/plain": [
       "Figure(PyObject <Figure size 600x600 with 1 Axes>)"
      ]
     },
     "metadata": {},
     "output_type": "display_data"
    }
   ],
   "source": [
    "fig = figure(\"pyplot_scatterplot\",figsize=(6,6))\n",
    "ax = PyPlot.axes()\n",
    "subplot(122)\n",
    "# ax = fig[:add_subplot](1,2,2);\n",
    "scatter(P.points[1,:],P.points[2,:],alpha=0.7)\n",
    "scatter(Q.points[1,:],Q.points[2,:],alpha=0.7)\n",
    "\n",
    "PyPlot.title(\"Scatter Plot\")\n",
    "xlabel(\"X\")\n",
    "ylabel(\"Y\")\n",
    "grid(true)\n",
    "# gcf() # Needed for IJulia to plot inline"
   ]
  },
  {
   "cell_type": "code",
   "execution_count": 20,
   "metadata": {},
   "outputs": [
    {
     "data": {
      "image/png": "[encoded data removed]",
      "text/plain": [
       "Figure(PyObject <Figure size 640x480 with 1 Axes>)"
      ]
     },
     "metadata": {},
     "output_type": "display_data"
    }
   ],
   "source": [
    "solOther = sparse(sol_pool[rand(1:cnt),:,:])\n",
    "for (x,y,v) in zip(findnz(solOther)...)\n",
    "    \n",
    "    x_pos = [P.points[:,x][1], Q.points[:,y][1]]\n",
    "    y_pos = [P.points[:,x][2], Q.points[:,y][2]]\n",
    "    subplot(122)\n",
    "    scatter(x_pos, y_pos)\n",
    "    plot(x_pos, y_pos)\n",
    "end"
   ]
  }
 ],
 "metadata": {
  "@webio": {
   "lastCommId": null,
   "lastKernelId": null
  },
  "celltoolbar": "Raw Cell Format",
  "kernelspec": {
   "display_name": "Julia 1.0.3",
   "language": "julia",
   "name": "julia-1.0"
  },
  "language_info": {
   "file_extension": ".jl",
   "mimetype": "application/julia",
   "name": "julia",
   "version": "1.0.3"
  }
 },
 "nbformat": 4,
 "nbformat_minor": 2
}
