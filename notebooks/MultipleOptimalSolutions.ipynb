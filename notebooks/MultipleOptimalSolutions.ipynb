{
 "cells": [
  {
   "cell_type": "code",
   "execution_count": 1,
   "metadata": {},
   "outputs": [],
   "source": [
    "using StatsBase\n",
    "using LinearAlgebra\n",
    "using JuMP\n",
    "using Gurobi\n",
    "using CSV\n",
    "using Distances\n",
    "using PyPlot\n",
    "using SparseArrays\n",
    "using Printf"
   ]
  },
  {
   "cell_type": "code",
   "execution_count": 2,
   "metadata": {},
   "outputs": [
    {
     "data": {
      "text/plain": [
       "10×15 Array{Float64,2}:\n",
       " 0.370197  0.554675  0.452521  0.705322  …  0.0743566  0.0732157  0.43512 \n",
       " 0.471688  0.568548  0.429827  1.0085       0.583196   0.446242   0.78695 \n",
       " 0.63541   0.663839  0.723804  0.194022     0.652276   0.713591   0.298361\n",
       " 0.521161  0.458941  0.570248  0.12769      0.73426    0.733792   0.334328\n",
       " 0.522549  0.656932  0.51229   1.03761      0.511047   0.391287   0.792155\n",
       " 0.643911  0.727873  0.594544  1.18164   …  0.733688   0.602988   0.960545\n",
       " 0.391171  0.325594  0.435663  0.207188     0.647227   0.627478   0.277831\n",
       " 0.529792  0.661064  0.638056  0.488023     0.313006   0.424954   0.281725\n",
       " 0.479331  0.664414  0.553478  0.812741     0.139325   0.167771   0.542277\n",
       " 0.415837  0.405439  0.318526  0.91791      0.716434   0.578324   0.760776"
      ]
     },
     "execution_count": 2,
     "metadata": {},
     "output_type": "execute_result"
    }
   ],
   "source": [
    "struct Pile\n",
    "    points::Matrix{Float64} # 2 x n matrix where each column is a point\n",
    "    weights::Vector{Float64}\n",
    "end\n",
    "Base.length(p::Pile) = length(p.weights)\n",
    "\n",
    "function Base.rand(::Type{Pile}; n_points = rand(1:5),\n",
    "                                 points = rand(2,n_points),\n",
    "                                use_rand = true)\n",
    "    if use_rand\n",
    "        \n",
    "        weights = rand(n_points)\n",
    "#         weights = weights/sum(weights)\n",
    "    else\n",
    "        weights = ones(n_points)\n",
    "#         weights = weights/sum(weights)\n",
    "    end\n",
    "    return Pile(points, weights)\n",
    "end\n",
    "\n",
    "P = rand(Pile, n_points = 10, use_rand = false)\n",
    "Q = rand(Pile, n_points = 15, use_rand = false)\n",
    "cost = pairwise(Euclidean(), P.points, Q.points; dims=2)"
   ]
  },
  {
   "cell_type": "code",
   "execution_count": 3,
   "metadata": {},
   "outputs": [
    {
     "data": {
      "text/plain": [
       "7×25 Array{Float64,2}:\n",
       " 1.80278  2.35432   2.88314   3.3434    …  0.901387  1.28862   1.80278\n",
       " 1.41421  1.90939   2.41091   2.85666      0.901387  1.02839   1.41421\n",
       " 1.11803  1.49958   1.95256   2.37545      1.14564   0.977055  1.11803\n",
       " 1.0      1.16262   1.52069   1.90394      1.52069   1.16262   1.0    \n",
       " 1.11803  0.977055  1.14564   1.45163      1.95256   1.49958   1.11803\n",
       " 1.41421  1.02839   0.901387  1.04378   …  2.41091   1.90939   1.41421\n",
       " 1.80278  1.28862   0.901387  0.756108     2.88314   2.35432   1.80278"
      ]
     },
     "execution_count": 3,
     "metadata": {},
     "output_type": "execute_result"
    }
   ],
   "source": [
    "P_dat = CSV.read(\"../data/artificial/P.csv\"; header=false)\n",
    "P_points = convert(Matrix, P_dat)'\n",
    "\n",
    "\n",
    "Q_dat = CSV.read(\"../data/artificial/Q.csv\"; header=false)\n",
    "Q_points = convert(Matrix, Q_dat)'\n",
    "\n",
    "P = rand(Pile, n_points = size(P_points)[2], points = P_points,use_rand = false)\n",
    "Q = rand(Pile, n_points = size(Q_points)[2], points = Q_points, use_rand = false)\n",
    "\n",
    "cost = pairwise(Euclidean(), P.points, Q.points; dims=2)"
   ]
  },
  {
   "cell_type": "code",
   "execution_count": 4,
   "metadata": {},
   "outputs": [
    {
     "name": "stdout",
     "output_type": "stream",
     "text": [
      "Optimize a model with 33 rows, 175 columns and 525 nonzeros\n",
      "Variable types: 0 continuous, 175 integer (0 binary)\n",
      "Coefficient statistics:\n",
      "  Matrix range     [1e+00, 1e+00]\n",
      "  Objective range  [8e-01, 4e+00]\n",
      "  Bounds range     [0e+00, 0e+00]\n",
      "  RHS range        [1e+00, 7e+00]\n",
      "Presolve time: 0.00s\n",
      "Presolved: 33 rows, 175 columns, 525 nonzeros\n",
      "Variable types: 0 continuous, 175 integer (175 binary)\n",
      "\n",
      "Root relaxation: objective 6.269101e+00, 10 iterations, 0.00 seconds\n",
      "\n",
      "    Nodes    |    Current Node    |     Objective Bounds      |     Work\n",
      " Expl Unexpl |  Obj  Depth IntInf | Incumbent    BestBd   Gap | It/Node Time\n",
      "\n",
      "*    0     0               0       6.2691008    6.26910  0.00%     -    0s\n",
      "Optimal solution found at node 0 - now completing solution pool...\n",
      "     0     0          -    0         6.26910    6.26910  0.00%     -    0s\n",
      "     0     0          -    0         6.26910    6.26910  0.00%     -    0s\n",
      "     0     2          -    0         6.26910    6.26910  0.00%     -    0s\n",
      "\n",
      "Explored 35584 nodes (6182 simplex iterations) in 0.60 seconds\n",
      "Thread count was 20 (of 20 available processors)\n",
      "\n",
      "Solution count 1000: 6.2691 6.2691 6.2691 ... 6.41008\n",
      "No other solutions better than 6.41008\n",
      "\n",
      "Optimal solution found (tolerance 1.00e-04)\n",
      "Best objective 6.269100755344e+00, best bound 6.269100755344e+00, gap 0.0000%\n",
      "6.269100755344169\n",
      "6.345044399859469 6.269100755344169\n"
     ]
    }
   ],
   "source": [
    "solCount = 1000\n",
    "m = JuMP.direct_model(Gurobi.Optimizer(PoolSearchMode=2, PoolSolutions=solCount, SolutionNumber=0))\n",
    "\n",
    "@variable(m, X[axes(cost,1), axes(cost,2)] ≥ 0, Int)\n",
    "@objective(m, Min, cost ⋅ X)\n",
    "@constraint(m,sum(X) .== min(sum(P.weights), sum(Q.weights)))\n",
    "@constraint(m, X * ones(Int, length(Q)) .<= P.weights)\n",
    "@constraint(m, X'ones(Int, length(P)) .<= Q.weights);\n",
    "optimize!(m)\n",
    "obj = objective_value(m)\n",
    "println(obj)\n",
    "# solution = value.(X)\n",
    "\n",
    "solution_pool = zeros(solCount, length(P),length(Q))\n",
    "cnt = 0\n",
    "for i in 0:(solCount-1)\n",
    "    try\n",
    "        setparam!(m.moi_backend.inner,\"SolutionNumber\", i)\n",
    "        \n",
    "        xn = Gurobi.get_dblattrarray(m.moi_backend.inner, \"Xn\", 1, length(X))\n",
    "        xn_val = Gurobi.get_dblattr(m.moi_backend.inner, \"PoolObjVal\")\n",
    "        if(round(xn_val,digits=10) != round(obj, digits=10))\n",
    "            println(xn_val,' ', obj)\n",
    "            break\n",
    "        end\n",
    "        default = zeros(length(P),length(Q))\n",
    "        for i in 0:length(P)-1\n",
    "            default[i+1,:] = xn[(i*length(Q))+1:(i+1)*length(Q)]\n",
    "        end\n",
    "        solution_pool[i+1,:,:] = default\n",
    "        cnt+=1\n",
    "    catch \n",
    "        break\n",
    "    end\n",
    "end\n",
    "sol_pool = deepcopy(solution_pool[1:cnt,:,:]);"
   ]
  },
  {
   "cell_type": "code",
   "execution_count": 5,
   "metadata": {},
   "outputs": [
    {
     "data": {
      "text/plain": [
       "(192, 7, 25)"
      ]
     },
     "execution_count": 5,
     "metadata": {},
     "output_type": "execute_result"
    }
   ],
   "source": [
    "size(sol_pool)"
   ]
  },
  {
   "cell_type": "code",
   "execution_count": 6,
   "metadata": {},
   "outputs": [
    {
     "data": {
      "image/png": "[encoded data removed]",
      "text/plain": [
       "Figure(PyObject <Figure size 600x600 with 1 Axes>)"
      ]
     },
     "metadata": {},
     "output_type": "display_data"
    }
   ],
   "source": [
    "fig = figure(\"pyplot_scatterplot\",figsize=(6,6))\n",
    "ax = PyPlot.axes()\n",
    "subplot(122)\n",
    "# ax = fig[:add_subplot](1,2,2);\n",
    "scatter(P.points[1,:],P.points[2,:],alpha=0.7)\n",
    "scatter(Q.points[1,:],Q.points[2,:],alpha=0.7)\n",
    "\n",
    "PyPlot.title(\"Scatter Plot\")\n",
    "xlabel(\"X\")\n",
    "ylabel(\"Y\")\n",
    "grid(true)\n",
    "# gcf() # Needed for IJulia to plot inline"
   ]
  },
  {
   "cell_type": "code",
   "execution_count": 13,
   "metadata": {},
   "outputs": [
    {
     "data": {
      "image/png": "[encoded data removed]",
      "text/plain": [
       "Figure(PyObject <Figure size 640x480 with 1 Axes>)"
      ]
     },
     "metadata": {},
     "output_type": "display_data"
    }
   ],
   "source": [
    "solOther = sparse(sol_pool[rand(1:cnt),:,:])\n",
    "for (x,y,v) in zip(findnz(solOther)...)\n",
    "    \n",
    "    x_pos = [P.points[:,x][1], Q.points[:,y][1]]\n",
    "    y_pos = [P.points[:,x][2], Q.points[:,y][2]]\n",
    "    subplot(122)\n",
    "    scatter(x_pos, y_pos)\n",
    "    plot(x_pos, y_pos)\n",
    "end"
   ]
  }
 ],
 "metadata": {
  "@webio": {
   "lastCommId": null,
   "lastKernelId": null
  },
  "celltoolbar": "Raw Cell Format",
  "kernelspec": {
   "display_name": "Julia 1.1.1",
   "language": "julia",
   "name": "julia-1.1"
  },
  "language_info": {
   "file_extension": ".jl",
   "mimetype": "application/julia",
   "name": "julia",
   "version": "1.1.1"
  }
 },
 "nbformat": 4,
 "nbformat_minor": 2
}
