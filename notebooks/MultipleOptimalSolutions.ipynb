{
 "cells": [
  {
   "cell_type": "code",
   "execution_count": 3,
   "metadata": {},
   "outputs": [],
   "source": [
    "using StatsBase\n",
    "using LinearAlgebra\n",
    "using JuMP\n",
    "using Gurobi\n",
    "using CSV\n",
    "using Distances\n",
    "using SparseArrays\n",
    "using Printf\n",
    "using DataFrames"
   ]
  },
  {
   "cell_type": "code",
   "execution_count": 13,
   "metadata": {},
   "outputs": [
    {
     "name": "stdout",
     "output_type": "stream",
     "text": [
      "Optimize a model with 8 rows, 12 columns and 36 nonzeros\n",
      "Variable types: 0 continuous, 12 integer (0 binary)\n",
      "Coefficient statistics:\n",
      "  Matrix range     [1e+00, 1e+00]\n",
      "  Objective range  [6e-02, 8e-01]\n",
      "  Bounds range     [0e+00, 0e+00]\n",
      "  RHS range        [1e+00, 3e+00]\n",
      "Found heuristic solution: objective 1.0957531\n",
      "Presolve time: 0.00s\n",
      "Presolved: 8 rows, 12 columns, 36 nonzeros\n",
      "Variable types: 0 continuous, 12 integer (12 binary)\n",
      "\n",
      "Root relaxation: objective 4.982916e-01, 2 iterations, 0.00 seconds\n",
      "\n",
      "    Nodes    |    Current Node    |     Objective Bounds      |     Work\n",
      " Expl Unexpl |  Obj  Depth IntInf | Incumbent    BestBd   Gap | It/Node Time\n",
      "\n",
      "*    0     0               0       0.4982916    0.49829  0.00%     -    0s\n",
      "\n",
      "Explored 0 nodes (2 simplex iterations) in 0.00 seconds\n",
      "Thread count was 4 (of 4 available processors)\n",
      "\n",
      "Solution count 1: 0.498292 \n",
      "\n",
      "Optimal solution found (tolerance 1.00e-04)\n",
      "Best objective 4.982916075279e-01, best bound 4.982916075279e-01, gap 0.0000%\n"
     ]
    }
   ],
   "source": [
    "struct Pile\n",
    "    points::Matrix{Float64} # 2 x n matrix where each column is a point\n",
    "    weights::Vector{Float64}\n",
    "end\n",
    "Base.length(p::Pile) = length(p.weights)\n",
    "\n",
    "function Base.rand(::Type{Pile}; n_points = rand(1:5),\n",
    "                                 points = rand(2,n_points),\n",
    "                                use_rand = true)\n",
    "    if use_rand\n",
    "        \n",
    "        weights = rand(n_points)\n",
    "    else\n",
    "        weights = ones(n_points)\n",
    "    end\n",
    "    return Pile(points, weights)\n",
    "end\n",
    "\n",
    "P = rand(Pile, n_points = 4, use_rand = false)\n",
    "Q = rand(Pile, n_points = 3, use_rand = false)\n",
    "cost = pairwise(Euclidean(), P.points, Q.points; dims=2)\n",
    "\n",
    "\n",
    "\n",
    "##################################\n",
    "solCount = 1\n",
    "m = JuMP.direct_model(Gurobi.Optimizer(PoolSearchMode=2, PoolSolutions=solCount, SolutionNumber=0))\n",
    "\n",
    "@variable(m, X[axes(cost,1), axes(cost,2)] ≥ 0, Int)\n",
    "@objective(m, Min, cost ⋅ X)\n",
    "@constraint(m,sum(X) .== min(sum(P.weights), sum(Q.weights)))\n",
    "@constraint(m, X * ones(Int, length(Q)) .<= P.weights)\n",
    "@constraint(m, X'ones(Int, length(P)) .<= Q.weights);\n",
    "optimize!(m)\n",
    "obj = objective_value(m)\n",
    "\n",
    "solution_pool = zeros(solCount, length(P),length(Q))\n",
    "cnt = 0\n",
    "obj = objective_value(m)\n",
    "\n",
    "for i in 0:(solCount-1)\n",
    "    try\n",
    "        setparam!(m.moi_backend.inner,\"SolutionNumber\", i)\n",
    "        xn = Gurobi.get_dblattrarray(m.moi_backend.inner, \"Xn\", 1, length(X))\n",
    "        xn_val = Gurobi.get_dblattr(m.moi_backend.inner, \"PoolObjVal\")\n",
    "        if(round(xn_val,digits=1) != round(obj, digits=1))\n",
    "            println(cnt , \" solution(s) selected\")\n",
    "            break\n",
    "        end\n",
    "        default = zeros(length(P),length(Q))\n",
    "        for i in 0:length(P)-1\n",
    "            default[i+1,:] = xn[(i*length(Q))+1:(i+1)*length(Q)]\n",
    "        end\n",
    "        solution_pool[i+1,:,:] = default\n",
    "        cnt+=1\n",
    "    catch \n",
    "        break\n",
    "    end\n",
    "end\n",
    "sol_pool = deepcopy(solution_pool[1:cnt,:,:]);"
   ]
  },
  {
   "cell_type": "code",
   "execution_count": 15,
   "metadata": {},
   "outputs": [
    {
     "data": {
      "text/plain": [
       "4×3 Array{Float64,2}:\n",
       " -0.0  -0.0  -0.0\n",
       " -0.0   1.0  -0.0\n",
       "  1.0  -0.0  -0.0\n",
       " -0.0   0.0   1.0"
      ]
     },
     "execution_count": 15,
     "metadata": {},
     "output_type": "execute_result"
    }
   ],
   "source": [
    "solution = value.(X)"
   ]
  },
  {
   "cell_type": "code",
   "execution_count": 6,
   "metadata": {},
   "outputs": [
    {
     "data": {
      "text/plain": [
       "1×4×3 Array{Float64,3}:\n",
       "[:, :, 1] =\n",
       " -0.0  -0.0  -0.0  1.0\n",
       "\n",
       "[:, :, 2] =\n",
       " -0.0  1.0  0.0  -0.0\n",
       "\n",
       "[:, :, 3] =\n",
       " -0.0  -0.0  1.0  0.0"
      ]
     },
     "execution_count": 6,
     "metadata": {},
     "output_type": "execute_result"
    }
   ],
   "source": [
    "sol_poolool"
   ]
  },
  {
   "cell_type": "code",
   "execution_count": 130,
   "metadata": {},
   "outputs": [
    {
     "data": {
      "image/png": "[encoded data removed]",
      "text/plain": [
       "Figure(PyObject <Figure size 600x600 with 1 Axes>)"
      ]
     },
     "metadata": {},
     "output_type": "display_data"
    }
   ],
   "source": [
    "fig = figure(\"pyplot_scatterplot\",figsize=(6,6))\n",
    "ax = PyPlot.axes()\n",
    "subplot(122)\n",
    "# ax = fig[:add_subplot](1,2,2);\n",
    "scatter(P.points[1,:],P.points[2,:],alpha=0.7)\n",
    "scatter(Q.points[1,:],Q.points[2,:],alpha=0.7)\n",
    "\n",
    "PyPlot.title(\"Scatter Plot\")\n",
    "xlabel(\"X\")\n",
    "ylabel(\"Y\")\n",
    "grid(true)\n",
    "# gcf() # Needed for IJulia to plot inline\n",
    "solOther = sparse(sol_pool[rand(1:cnt),:,:])\n",
    "for (x,y,v) in zip(findnz(solOther)...)\n",
    "    \n",
    "    x_pos = [P.points[:,x][1], Q.points[:,y][1]]\n",
    "    y_pos = [P.points[:,x][2], Q.points[:,y][2]]\n",
    "    subplot(122)\n",
    "    scatter(x_pos, y_pos)\n",
    "    plot(x_pos, y_pos)\n",
    "end"
   ]
  },
  {
   "cell_type": "code",
   "execution_count": 131,
   "metadata": {},
   "outputs": [
    {
     "name": "stdout",
     "output_type": "stream",
     "text": [
      "Count of solutions:576\n"
     ]
    },
    {
     "data": {
      "text/plain": [
       "\"../data/artificial/solutions.csv\""
      ]
     },
     "execution_count": 131,
     "metadata": {},
     "output_type": "execute_result"
    }
   ],
   "source": [
    "allSolutions = zeros(cnt, size(P.points)[2]*4)\n",
    "\n",
    "for index in 1:cnt\n",
    "    solOther = sparse(sol_pool[index,:,:])\n",
    "    line = zeros(0)\n",
    "    for (x,y,v) in zip(findnz(solOther)...)\n",
    "        P_pos = [P.points[:,x][1], P.points[:,x][2]]\n",
    "        Q_pos = [Q.points[:,y][1], Q.points[:,y][2]]\n",
    "        append!(line, P_pos)\n",
    "        append!(line, Q_pos)\n",
    "    end\n",
    "    allSolutions[index,:] = line\n",
    "end\n",
    "df = DataFrame(allSolutions)\n",
    "println(\"Count of solutions:$(size(df)[1])\")\n",
    "CSV.write(\"../data/artificial/solutions.csv\",  df, writeheader=false)"
   ]
  }
 ],
 "metadata": {
  "@webio": {
   "lastCommId": null,
   "lastKernelId": null
  },
  "celltoolbar": "Raw Cell Format",
  "kernelspec": {
   "display_name": "Julia 1.0.5",
   "language": "julia",
   "name": "julia-1.0"
  },
  "language_info": {
   "file_extension": ".jl",
   "mimetype": "application/julia",
   "name": "julia",
   "version": "1.0.5"
  }
 },
 "nbformat": 4,
 "nbformat_minor": 2
}
