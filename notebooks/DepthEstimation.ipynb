{
 "cells": [
  {
   "cell_type": "code",
   "execution_count": 1,
   "metadata": {},
   "outputs": [
    {
     "name": "stderr",
     "output_type": "stream",
     "text": [
      "┌ Info: Recompiling stale cache file /Users/kamalsdu/.julia/compiled/v1.0/PyCall/GkzkC.ji for PyCall [438e738f-606a-5dbb-bf0a-cddfbfd45ab0]\n",
      "└ @ Base loading.jl:1190\n",
      "┌ Info: Precompiling JuMP [4076af6c-e467-56ae-b986-b466b2749572]\n",
      "└ @ Base loading.jl:1192\n",
      "┌ Info: Precompiling Gurobi [2e9cd046-0924-5485-92f1-d5272153d98b]\n",
      "└ @ Base loading.jl:1192\n",
      "┌ Info: Precompiling CSV [336ed68f-0bac-5ca0-87d4-7b16caf5d00b]\n",
      "└ @ Base loading.jl:1192\n"
     ]
    }
   ],
   "source": [
    "using PyCall\n",
    "using Distances\n",
    "using StatsBase\n",
    "using LinearAlgebra\n",
    "using JuMP\n",
    "using Gurobi\n",
    "using CSV\n",
    "using Distances\n",
    "using DataFrames\n",
    "# using PyPlot\n",
    "using SparseArrays\n",
    "using Printf"
   ]
  },
  {
   "cell_type": "code",
   "execution_count": 2,
   "metadata": {},
   "outputs": [
    {
     "name": "stdout",
     "output_type": "stream",
     "text": [
      "size P points(599, 2)\n",
      "size Q points(676, 2)\n"
     ]
    }
   ],
   "source": [
    "py\"\"\"\n",
    "from mpl_toolkits.mplot3d import Axes3D\n",
    "import matplotlib.pyplot as plt\n",
    "import numpy as np\n",
    "import sys\n",
    "import cv2\n",
    "import os\n",
    "\n",
    "class Triangulation:\n",
    "    def load_imgs(self, path1, path2):\n",
    "        self.img1 = cv2.imread(path1, cv2.CV_8UC3)\n",
    "        self.img2 = cv2.imread(path2, cv2.CV_8UC3)\n",
    "        # base = \"/\".join(path1.split(\"\\\\\")[:-1])\n",
    "        # cv2.imwrite(os.path.join(base, \"left_loaded.png\"), self.img1)\n",
    "        # cv2.imwrite(os.path.join(base, \"right_loaded.png\"), self.img2)\n",
    "\n",
    "    def findRootSIFTFeatures(self, n_components = None):\n",
    "        class RootSIFT:\n",
    "            def __init__(self):\n",
    "                self.extractor = cv2.xfeatures2d.SIFT_create(n_components) if n_components != None else cv2.xfeatures2d.SIFT_create()\n",
    "            def compute(self, image, kps, eps=1e-7):\n",
    "                (kps, descs) = self.extractor.compute(image, kps)\n",
    "                if len(kps) == 0:\n",
    "                    return ([], None)\n",
    "\n",
    "                descs /= (descs.sum(axis=1, keepdims=True) + eps)\n",
    "                descs = np.sqrt(descs)\n",
    "                return (kps, descs)\n",
    "\n",
    "        class InnerFeatures:\n",
    "            def __init__(self, kps, des, pos):\n",
    "                self.kps = kps\n",
    "                self.des = des\n",
    "                self.pos = pos\n",
    "\n",
    "        def innerRootSIFT(img):\n",
    "            sift = cv2.xfeatures2d.SIFT_create(n_components) if n_components != None else cv2.xfeatures2d.SIFT_create()\n",
    "            (kps, descs) = sift.detectAndCompute(img, None)\n",
    "\n",
    "            rs = RootSIFT()\n",
    "            (kps, descs) = rs.compute(img, kps)\n",
    "            pos = [np.array([x.pt[0], x.pt[1]]) for x in kps]\n",
    "\n",
    "            return kps, descs, pos\n",
    "\n",
    "        kps1, desc1, pos1 = innerRootSIFT(self.img1)\n",
    "        kps2, desc2, pos2 = innerRootSIFT(self.img2)\n",
    "        self.feature_1 = InnerFeatures(kps1, desc1, pos1)\n",
    "        self.feature_2 = InnerFeatures(kps2, desc2, pos2)\n",
    "    def drawMatches(self, path):\n",
    "        self.outImage = cv2.drawMatches(self.img1, self.feature_1.kps, self.img2, self.feature_2.kps, self.matches,outImg=None)\n",
    "        cv2.imwrite(path, self.outImage)\n",
    "scene = Triangulation()\n",
    "\"\"\"\n",
    "\n",
    "img1_path = \"../data/dense/0000-small-left.png\"\n",
    "img2_path = \"../data/dense/0001-small-right.png\"\n",
    "\n",
    "py\"scene.load_imgs\"(img1_path, img2_path)\n",
    "py\"scene.findRootSIFTFeatures\"()\n",
    "\n",
    "pts1 = py\"scene.feature_1.pos\"\n",
    "pts2 = py\"scene.feature_2.pos\";\n",
    "\n",
    "P_points = hcat(pts1...)'\n",
    "Q_points = hcat(pts2...)'\n",
    "\n",
    "println(\"size P points\", size(P_points))\n",
    "println(\"size Q points\", size(Q_points))"
   ]
  },
  {
   "cell_type": "code",
   "execution_count": 3,
   "metadata": {},
   "outputs": [
    {
     "name": "stdout",
     "output_type": "stream",
     "text": [
      "(599, 676)\n"
     ]
    }
   ],
   "source": [
    "cost = pairwise(Euclidean(), P_points, Q_points; dims=1)\n",
    "println(size(cost))\n",
    "P = ones(size(P_points,1))\n",
    "Q = ones(size(Q_points,1));"
   ]
  },
  {
   "cell_type": "code",
   "execution_count": 4,
   "metadata": {},
   "outputs": [
    {
     "name": "stdout",
     "output_type": "stream",
     "text": [
      "Optimize a model with 1276 rows, 404924 columns and 1214772 nonzeros\n",
      "Variable types: 0 continuous, 404924 integer (0 binary)\n",
      "Coefficient statistics:\n",
      "  Matrix range     [1e+00, 1e+00]\n",
      "  Objective range  [4e-01, 6e+02]\n",
      "  Bounds range     [0e+00, 0e+00]\n",
      "  RHS range        [1e+00, 6e+02]\n",
      "Presolve time: 2.11s\n",
      "Presolved: 1276 rows, 404924 columns, 1214772 nonzeros\n",
      "Variable types: 0 continuous, 404924 integer (404924 binary)\n",
      "\n",
      "Starting sifting (using dual simplex for sub-problems)...\n",
      "\n",
      "    Iter     Pivots    Primal Obj      Dual Obj        Time\n",
      "       0          0     infinity      0.0000000e+00      4s\n",
      "       1       2451   4.2007444e+07   1.2475434e+03      4s\n",
      "       2       6608   2.3008455e+07   1.9182428e+03      4s\n",
      "       3      10781   9.0096278e+06   2.1843818e+03      5s\n",
      "       4      15234   1.0535040e+04   3.7318834e+03      5s\n",
      "       5      17604   1.0351183e+04   8.6437919e+03      5s\n",
      "\n",
      "Sifting complete\n",
      "\n",
      "\n",
      "Root relaxation: objective 1.032155e+04, 19225 iterations, 0.73 seconds\n",
      "\n",
      "    Nodes    |    Current Node    |     Objective Bounds      |     Work\n",
      " Expl Unexpl |  Obj  Depth IntInf | Incumbent    BestBd   Gap | It/Node Time\n",
      "\n",
      "*    0     0               0    10321.546586 10321.5466  0.00%     -    4s\n",
      "Optimal solution found at node 0 - now completing solution pool...\n",
      "     0     0          -    0      10321.5466 10321.5466  0.00%     -    4s\n",
      "     0     0          -    0      10321.5466 10321.5466  0.00%     -    5s\n",
      "     0     2          -    0      10321.5466 10321.5466  0.00%     -    5s\n",
      "   145    56          -   31      10321.5466 10321.5466  0.00%   0.5   10s\n",
      "   311    83          -   67      10321.5466 10321.5466  0.00%   0.5   15s\n",
      "   477    58          -  104      10321.5466 10321.5466  0.00%   0.6   20s\n",
      "   653    71          -  144      10321.5466 10321.5466  0.00%   0.7   26s\n",
      "   776    40          -  175      10321.5466 10321.5466  0.00%   0.7   30s\n",
      "\n",
      "Explored 985 nodes (19994 simplex iterations) in 34.82 seconds\n",
      "Thread count was 4 (of 4 available processors)\n",
      "\n",
      "Solution count 10: 10321.5 10321.5 10321.5 ... 10322.4\n",
      "\n",
      "Optimal solution found (tolerance 1.00e-04)\n",
      "Best objective 1.032154658583e+04, best bound 1.032154658583e+04, gap 0.0000%\n",
      "4 solution(s) selected\n"
     ]
    }
   ],
   "source": [
    "solCount = 10\n",
    "# m = JuMP.direct_model(Gurobi.Optimizer(PoolSearchMode=2, PoolSolutions=solCount, SolutionNumber=0,PoolGap = 0.001))\n",
    "m = JuMP.direct_model(Gurobi.Optimizer(PoolSearchMode=2, PoolSolutions=solCount, SolutionNumber=0))\n",
    "\n",
    "@variable(m, X[axes(cost,1), axes(cost,2)] ≥ 0, Int)\n",
    "@objective(m, Min, cost ⋅ X)\n",
    "@constraint(m,sum(X) .== min(sum(P), sum(Q)))\n",
    "@constraint(m, X * ones(Int, length(Q)) .<= P)\n",
    "@constraint(m, X'ones(Int, length(P)) .<= Q);\n",
    "optimize!(m)\n",
    "solution_pool = zeros(solCount, length(P),length(Q))\n",
    "cnt = 0\n",
    "obj = objective_value(m)\n",
    "\n",
    "for i in 0:(solCount-1)\n",
    "    try\n",
    "        setparam!(m.moi_backend.inner,\"SolutionNumber\", i)\n",
    "        xn = Gurobi.get_dblattrarray(m.moi_backend.inner, \"Xn\", 1, length(X))\n",
    "        xn_val = Gurobi.get_dblattr(m.moi_backend.inner, \"PoolObjVal\")\n",
    "        if(round(xn_val,digits=1) != round(obj, digits=1))\n",
    "            println(cnt , \" solution(s) selected\")\n",
    "            break\n",
    "        end\n",
    "        default = zeros(length(P),length(Q))\n",
    "        for i in 0:length(P)-1\n",
    "            default[i+1,:] = xn[(i*length(Q))+1:(i+1)*length(Q)]\n",
    "        end\n",
    "        solution_pool[i+1,:,:] = default\n",
    "        cnt+=1\n",
    "    catch \n",
    "        break\n",
    "    end\n",
    "end\n",
    "sol_pool = deepcopy(solution_pool[1:cnt,:,:]);"
   ]
  },
  {
   "cell_type": "code",
   "execution_count": 5,
   "metadata": {},
   "outputs": [],
   "source": [
    "solOther = sparse(sol_pool[1,:,:])\n",
    "sizeOf = min(size(P,1), size(Q,1))\n",
    "matched_pts1 = zeros(sizeOf,2)\n",
    "matched_pts2 = zeros(sizeOf,2)\n",
    "i = 1\n",
    "py\"\"\"\n",
    "arr = []\n",
    "\"\"\"\n",
    "for (x,y,v) in zip(findnz(solOther)...)\n",
    "    x_pos = [P_points'[:,x][1], Q_points'[:,y][1]]\n",
    "    y_pos = [P_points'[:,x][2], Q_points'[:,y][2]]\n",
    "    \n",
    "    # dmatch creating\n",
    "    queryId = x-1\n",
    "    trainId = y-1\n",
    "    distance = cost[x,y]\n",
    "    if(distance <= 10)\n",
    "        dmatch = py\"cv2.DMatch($(queryId), $(trainId),$(distance))\"\n",
    "        py\"arr.append\"(dmatch)\n",
    "        matched_pts1[i,:] = [floor(x_pos[1]) floor(y_pos[1])]\n",
    "        matched_pts2[i,:] = [floor(x_pos[2]) floor(y_pos[2])]\n",
    "        i+=1\n",
    "    end\n",
    "end\n",
    "py\"\"\"\n",
    "scene.matches = arr\n",
    "\"\"\"\n",
    "\n",
    "\n",
    "# path = \"../data\\\\pair\\\\lastLPMatched.png\"\n",
    "# py\"scene.drawMatches\"(path)\n",
    "\n",
    "\n",
    "matched_final_1 = deepcopy(matched_pts1[1:i-1, :])\n",
    "matched_final_2 = deepcopy(matched_pts2[1:i-1, :]);"
   ]
  },
  {
   "cell_type": "code",
   "execution_count": 6,
   "metadata": {},
   "outputs": [
    {
     "data": {
      "text/html": [
       "<table class=\"data-frame\"><thead><tr><th></th><th>PX</th><th>PY</th><th>QX</th><th>QY</th></tr><tr><th></th><th>Float64</th><th>Float64</th><th>Float64</th><th>Float64</th></tr></thead><tbody><p>230 rows × 4 columns</p><tr><th>1</th><td>19.0</td><td>60.0</td><td>16.0</td><td>53.0</td></tr><tr><th>2</th><td>36.0</td><td>58.0</td><td>36.0</td><td>55.0</td></tr><tr><th>3</th><td>49.0</td><td>59.0</td><td>39.0</td><td>59.0</td></tr><tr><th>4</th><td>41.0</td><td>8.0</td><td>39.0</td><td>9.0</td></tr><tr><th>5</th><td>53.0</td><td>49.0</td><td>51.0</td><td>51.0</td></tr><tr><th>6</th><td>52.0</td><td>58.0</td><td>54.0</td><td>62.0</td></tr><tr><th>7</th><td>56.0</td><td>262.0</td><td>64.0</td><td>264.0</td></tr><tr><th>8</th><td>84.0</td><td>237.0</td><td>78.0</td><td>234.0</td></tr><tr><th>9</th><td>82.0</td><td>279.0</td><td>79.0</td><td>277.0</td></tr><tr><th>10</th><td>82.0</td><td>279.0</td><td>79.0</td><td>277.0</td></tr><tr><th>11</th><td>74.0</td><td>263.0</td><td>80.0</td><td>264.0</td></tr><tr><th>12</th><td>86.0</td><td>243.0</td><td>84.0</td><td>242.0</td></tr><tr><th>13</th><td>86.0</td><td>243.0</td><td>84.0</td><td>242.0</td></tr><tr><th>14</th><td>80.0</td><td>251.0</td><td>85.0</td><td>255.0</td></tr><tr><th>15</th><td>80.0</td><td>251.0</td><td>85.0</td><td>255.0</td></tr><tr><th>16</th><td>87.0</td><td>243.0</td><td>92.0</td><td>246.0</td></tr><tr><th>17</th><td>92.0</td><td>234.0</td><td>92.0</td><td>233.0</td></tr><tr><th>18</th><td>101.0</td><td>210.0</td><td>92.0</td><td>213.0</td></tr><tr><th>19</th><td>101.0</td><td>210.0</td><td>93.0</td><td>208.0</td></tr><tr><th>20</th><td>100.0</td><td>231.0</td><td>94.0</td><td>224.0</td></tr><tr><th>21</th><td>86.0</td><td>248.0</td><td>95.0</td><td>250.0</td></tr><tr><th>22</th><td>104.0</td><td>104.0</td><td>99.0</td><td>111.0</td></tr><tr><th>23</th><td>104.0</td><td>104.0</td><td>100.0</td><td>104.0</td></tr><tr><th>24</th><td>110.0</td><td>230.0</td><td>114.0</td><td>227.0</td></tr><tr><th>25</th><td>113.0</td><td>225.0</td><td>114.0</td><td>227.0</td></tr><tr><th>26</th><td>110.0</td><td>230.0</td><td>114.0</td><td>227.0</td></tr><tr><th>27</th><td>117.0</td><td>223.0</td><td>114.0</td><td>220.0</td></tr><tr><th>28</th><td>117.0</td><td>223.0</td><td>118.0</td><td>231.0</td></tr><tr><th>29</th><td>113.0</td><td>234.0</td><td>121.0</td><td>239.0</td></tr><tr><th>30</th><td>120.0</td><td>142.0</td><td>123.0</td><td>147.0</td></tr><tr><th>&vellip;</th><td>&vellip;</td><td>&vellip;</td><td>&vellip;</td><td>&vellip;</td></tr></tbody></table>"
      ],
      "text/latex": [
       "\\begin{tabular}{r|cccc}\n",
       "\t& PX & PY & QX & QY\\\\\n",
       "\t\\hline\n",
       "\t& Float64 & Float64 & Float64 & Float64\\\\\n",
       "\t\\hline\n",
       "\t1 & 19.0 & 60.0 & 16.0 & 53.0 \\\\\n",
       "\t2 & 36.0 & 58.0 & 36.0 & 55.0 \\\\\n",
       "\t3 & 49.0 & 59.0 & 39.0 & 59.0 \\\\\n",
       "\t4 & 41.0 & 8.0 & 39.0 & 9.0 \\\\\n",
       "\t5 & 53.0 & 49.0 & 51.0 & 51.0 \\\\\n",
       "\t6 & 52.0 & 58.0 & 54.0 & 62.0 \\\\\n",
       "\t7 & 56.0 & 262.0 & 64.0 & 264.0 \\\\\n",
       "\t8 & 84.0 & 237.0 & 78.0 & 234.0 \\\\\n",
       "\t9 & 82.0 & 279.0 & 79.0 & 277.0 \\\\\n",
       "\t10 & 82.0 & 279.0 & 79.0 & 277.0 \\\\\n",
       "\t11 & 74.0 & 263.0 & 80.0 & 264.0 \\\\\n",
       "\t12 & 86.0 & 243.0 & 84.0 & 242.0 \\\\\n",
       "\t13 & 86.0 & 243.0 & 84.0 & 242.0 \\\\\n",
       "\t14 & 80.0 & 251.0 & 85.0 & 255.0 \\\\\n",
       "\t15 & 80.0 & 251.0 & 85.0 & 255.0 \\\\\n",
       "\t16 & 87.0 & 243.0 & 92.0 & 246.0 \\\\\n",
       "\t17 & 92.0 & 234.0 & 92.0 & 233.0 \\\\\n",
       "\t18 & 101.0 & 210.0 & 92.0 & 213.0 \\\\\n",
       "\t19 & 101.0 & 210.0 & 93.0 & 208.0 \\\\\n",
       "\t20 & 100.0 & 231.0 & 94.0 & 224.0 \\\\\n",
       "\t21 & 86.0 & 248.0 & 95.0 & 250.0 \\\\\n",
       "\t22 & 104.0 & 104.0 & 99.0 & 111.0 \\\\\n",
       "\t23 & 104.0 & 104.0 & 100.0 & 104.0 \\\\\n",
       "\t24 & 110.0 & 230.0 & 114.0 & 227.0 \\\\\n",
       "\t25 & 113.0 & 225.0 & 114.0 & 227.0 \\\\\n",
       "\t26 & 110.0 & 230.0 & 114.0 & 227.0 \\\\\n",
       "\t27 & 117.0 & 223.0 & 114.0 & 220.0 \\\\\n",
       "\t28 & 117.0 & 223.0 & 118.0 & 231.0 \\\\\n",
       "\t29 & 113.0 & 234.0 & 121.0 & 239.0 \\\\\n",
       "\t30 & 120.0 & 142.0 & 123.0 & 147.0 \\\\\n",
       "\t$\\dots$ & $\\dots$ & $\\dots$ & $\\dots$ & $\\dots$ \\\\\n",
       "\\end{tabular}\n"
      ],
      "text/plain": [
       "230×4 DataFrame\n",
       "│ Row │ PX      │ PY      │ QX      │ QY      │\n",
       "│     │ \u001b[90mFloat64\u001b[39m │ \u001b[90mFloat64\u001b[39m │ \u001b[90mFloat64\u001b[39m │ \u001b[90mFloat64\u001b[39m │\n",
       "├─────┼─────────┼─────────┼─────────┼─────────┤\n",
       "│ 1   │ 19.0    │ 60.0    │ 16.0    │ 53.0    │\n",
       "│ 2   │ 36.0    │ 58.0    │ 36.0    │ 55.0    │\n",
       "│ 3   │ 49.0    │ 59.0    │ 39.0    │ 59.0    │\n",
       "│ 4   │ 41.0    │ 8.0     │ 39.0    │ 9.0     │\n",
       "│ 5   │ 53.0    │ 49.0    │ 51.0    │ 51.0    │\n",
       "│ 6   │ 52.0    │ 58.0    │ 54.0    │ 62.0    │\n",
       "│ 7   │ 56.0    │ 262.0   │ 64.0    │ 264.0   │\n",
       "│ 8   │ 84.0    │ 237.0   │ 78.0    │ 234.0   │\n",
       "│ 9   │ 82.0    │ 279.0   │ 79.0    │ 277.0   │\n",
       "│ 10  │ 82.0    │ 279.0   │ 79.0    │ 277.0   │\n",
       "⋮\n",
       "│ 220 │ 429.0   │ 164.0   │ 436.0   │ 166.0   │\n",
       "│ 221 │ 431.0   │ 70.0    │ 437.0   │ 70.0    │\n",
       "│ 222 │ 438.0   │ 267.0   │ 440.0   │ 268.0   │\n",
       "│ 223 │ 437.0   │ 154.0   │ 440.0   │ 156.0   │\n",
       "│ 224 │ 440.0   │ 294.0   │ 441.0   │ 296.0   │\n",
       "│ 225 │ 434.0   │ 63.0    │ 443.0   │ 59.0    │\n",
       "│ 226 │ 454.0   │ 317.0   │ 457.0   │ 318.0   │\n",
       "│ 227 │ 451.0   │ 296.0   │ 458.0   │ 298.0   │\n",
       "│ 228 │ 462.0   │ 319.0   │ 463.0   │ 327.0   │\n",
       "│ 229 │ 465.0   │ 264.0   │ 464.0   │ 273.0   │\n",
       "│ 230 │ 471.0   │ 312.0   │ 471.0   │ 307.0   │"
      ]
     },
     "execution_count": 6,
     "metadata": {},
     "output_type": "execute_result"
    }
   ],
   "source": [
    "df = DataFrame()\n",
    "df.PX = matched_final_1[:,1]\n",
    "df.PY = matched_final_1[:,2]\n",
    "df.QX = matched_final_2[:,1]\n",
    "df.QY = matched_final_2[:,2];\n",
    "df"
   ]
  },
  {
   "cell_type": "code",
   "execution_count": 7,
   "metadata": {},
   "outputs": [
    {
     "data": {
      "text/plain": [
       "\"../data/dense/matchedPoints.csv\""
      ]
     },
     "execution_count": 7,
     "metadata": {},
     "output_type": "execute_result"
    }
   ],
   "source": [
    "CSV.write(\"../data/dense/matchedPoints.csv\",  df, writeheader=false)"
   ]
  }
 ],
 "metadata": {
  "kernelspec": {
   "display_name": "Julia 1.0.3",
   "language": "julia",
   "name": "julia-1.0"
  },
  "language_info": {
   "file_extension": ".jl",
   "mimetype": "application/julia",
   "name": "julia",
   "version": "1.0.3"
  }
 },
 "nbformat": 4,
 "nbformat_minor": 2
}
