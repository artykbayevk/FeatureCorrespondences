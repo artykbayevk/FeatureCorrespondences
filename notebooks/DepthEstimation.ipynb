{
 "cells": [
  {
   "cell_type": "code",
   "execution_count": 1,
   "metadata": {},
   "outputs": [],
   "source": [
    "using PyCall\n",
    "using Distances\n",
    "using StatsBase\n",
    "using LinearAlgebra\n",
    "using JuMP\n",
    "using Gurobi\n",
    "using CSV\n",
    "using DataFrames\n",
    "using SparseArrays\n",
    "using Printf"
   ]
  },
  {
   "cell_type": "code",
   "execution_count": 2,
   "metadata": {},
   "outputs": [
    {
     "name": "stdout",
     "output_type": "stream",
     "text": [
      "size P points(550, 2)\n",
      "size Q points(550, 2)\n"
     ]
    }
   ],
   "source": [
    "py\"\"\"\n",
    "from mpl_toolkits.mplot3d import Axes3D\n",
    "import matplotlib.pyplot as plt\n",
    "import numpy as np\n",
    "import sys\n",
    "import cv2\n",
    "import os\n",
    "\n",
    "class Triangulation:\n",
    "    def load_imgs(self, path1, path2):\n",
    "        self.img1 = cv2.imread(path1, cv2.CV_8UC3)\n",
    "        self.img2 = cv2.imread(path2, cv2.CV_8UC3)\n",
    "        # base = \"/\".join(path1.split(\"\\\\\")[:-1])\n",
    "        # cv2.imwrite(os.path.join(base, \"left_loaded.png\"), self.img1)\n",
    "        # cv2.imwrite(os.path.join(base, \"right_loaded.png\"), self.img2)\n",
    "\n",
    "    def findRootSIFTFeatures(self, n_components = None):\n",
    "        class RootSIFT:\n",
    "            def __init__(self):\n",
    "                self.extractor = cv2.xfeatures2d.SIFT_create(n_components) if n_components != None else cv2.xfeatures2d.SIFT_create()\n",
    "            def compute(self, image, kps, eps=1e-7):\n",
    "                (kps, descs) = self.extractor.compute(image, kps)\n",
    "                if len(kps) == 0:\n",
    "                    return ([], None)\n",
    "\n",
    "                descs /= (descs.sum(axis=1, keepdims=True) + eps)\n",
    "                descs = np.sqrt(descs)\n",
    "                return (kps, descs)\n",
    "\n",
    "        class InnerFeatures:\n",
    "            def __init__(self, kps, des, pos):\n",
    "                self.kps = kps\n",
    "                self.des = des\n",
    "                self.pos = pos\n",
    "\n",
    "        def innerRootSIFT(img):\n",
    "            sift = cv2.xfeatures2d.SIFT_create(n_components) if n_components != None else cv2.xfeatures2d.SIFT_create()\n",
    "            (kps, descs) = sift.detectAndCompute(img, None)\n",
    "\n",
    "            rs = RootSIFT()\n",
    "            (kps, descs) = rs.compute(img, kps)\n",
    "            pos = [np.array([x.pt[0], x.pt[1]]) for x in kps]\n",
    "\n",
    "            return kps, descs, pos\n",
    "\n",
    "        kps1, desc1, pos1 = innerRootSIFT(self.img1)\n",
    "        kps2, desc2, pos2 = innerRootSIFT(self.img2)\n",
    "        self.feature_1 = InnerFeatures(kps1, desc1, pos1)\n",
    "        self.feature_2 = InnerFeatures(kps2, desc2, pos2)\n",
    "    def drawMatches(self, path):\n",
    "        self.outImage = cv2.drawMatches(self.img1, self.feature_1.kps, self.img2, self.feature_2.kps, self.matches,outImg=None)\n",
    "        cv2.imwrite(path, self.outImage)\n",
    "scene = Triangulation()\n",
    "\"\"\"\n",
    "\n",
    "img1_path = \"../data/dense/0000-small-left.png\"\n",
    "img2_path = \"../data/dense/0001-small-right.png\"\n",
    "\n",
    "py\"scene.load_imgs\"(img1_path, img2_path)\n",
    "py\"scene.findRootSIFTFeatures\"(n_components=550)\n",
    "\n",
    "pts1 = py\"scene.feature_1.pos\"\n",
    "pts2 = py\"scene.feature_2.pos\";\n",
    "\n",
    "P_points = hcat(pts1...)'\n",
    "Q_points = hcat(pts2...)'\n",
    "\n",
    "println(\"size P points\", size(P_points))\n",
    "println(\"size Q points\", size(Q_points))"
   ]
  },
  {
   "cell_type": "code",
   "execution_count": 3,
   "metadata": {},
   "outputs": [
    {
     "name": "stdout",
     "output_type": "stream",
     "text": [
      "(550, 550)\n"
     ]
    }
   ],
   "source": [
    "cost = pairwise(Euclidean(), P_points, Q_points; dims=1)\n",
    "println(size(cost))\n",
    "P = ones(size(P_points,1))\n",
    "Q = ones(size(Q_points,1));"
   ]
  },
  {
   "cell_type": "code",
   "execution_count": 4,
   "metadata": {},
   "outputs": [
    {
     "name": "stdout",
     "output_type": "stream",
     "text": [
      "Optimize a model with 1101 rows, 302500 columns and 907500 nonzeros\n",
      "Variable types: 0 continuous, 302500 integer (0 binary)\n",
      "Coefficient statistics:\n",
      "  Matrix range     [1e+00, 1e+00]\n",
      "  Objective range  [5e-01, 6e+02]\n",
      "  Bounds range     [0e+00, 0e+00]\n",
      "  RHS range        [1e+00, 6e+02]\n",
      "Presolve time: 1.53s\n",
      "Presolved: 1101 rows, 302500 columns, 907500 nonzeros\n",
      "Variable types: 0 continuous, 302500 integer (302500 binary)\n",
      "\n",
      "Starting sifting (using dual simplex for sub-problems)...\n",
      "\n",
      "    Iter     Pivots    Primal Obj      Dual Obj        Time\n",
      "       0          0     infinity      0.0000000e+00      3s\n",
      "       1       2113   5.8006931e+07   1.7812150e+03      4s\n",
      "       2       5744   3.9007895e+07   2.9112036e+03      4s\n",
      "       3       9851   2.4009251e+07   3.5567934e+03      4s\n",
      "       4      13867   1.3010513e+07   3.9374227e+03      4s\n",
      "       5      17967   8.0112810e+06   4.2382635e+03      4s\n",
      "       6      22273   4.0120883e+06   4.4019734e+03      4s\n",
      "       7      26890   3.0123804e+06   4.4767618e+03      4s\n",
      "       8      31200   2.0125935e+06   4.6694042e+03      4s\n",
      "       9      35571   1.2976548e+04   5.6453726e+03      4s\n",
      "      10      37708   1.2927647e+04   8.6901535e+03      5s\n",
      "      11      39518   1.2812955e+04   1.2337471e+04      5s\n",
      "\n",
      "Sifting complete\n",
      "\n",
      "\n",
      "Root relaxation: objective 1.280765e+04, 40866 iterations, 1.35 seconds\n",
      "\n",
      "    Nodes    |    Current Node    |     Objective Bounds      |     Work\n",
      " Expl Unexpl |  Obj  Depth IntInf | Incumbent    BestBd   Gap | It/Node Time\n",
      "\n",
      "*    0     0               0    12807.647501 12807.6475  0.00%     -    4s\n",
      "Optimal solution found at node 0 - now completing solution pool...\n",
      "     0     0          -    0      12807.6475 12807.6475  0.00%     -    4s\n",
      "     0     0          -    0      12807.6475 12807.6475  0.00%     -    4s\n",
      "     0     2          -    0      12807.6475 12807.6475  0.00%     -    5s\n",
      "   114    41          -   24      12807.6475 12807.6475  0.00%   2.1   10s\n",
      "   264   130          -  118      12807.6475 12807.6475  0.00%   1.6   15s\n",
      "\n",
      "Explored 442 nodes (41487 simplex iterations) in 18.38 seconds\n",
      "Thread count was 4 (of 4 available processors)\n",
      "\n",
      "Solution count 10: 12807.6 12807.6 12807.6 ... 12808.3\n",
      "\n",
      "Optimal solution found (tolerance 1.00e-04)\n",
      "Best objective 1.280764750147e+04, best bound 1.280764750147e+04, gap 0.0000%\n"
     ]
    }
   ],
   "source": [
    "solCount = 10\n",
    "# m = JuMP.direct_model(Gurobi.Optimizer(PoolSearchMode=2, PoolSolutions=solCount, SolutionNumber=0,PoolGap = 0.001))\n",
    "m = JuMP.direct_model(Gurobi.Optimizer(PoolSearchMode=2, PoolSolutions=solCount, SolutionNumber=0))\n",
    "\n",
    "@variable(m, X[axes(cost,1), axes(cost,2)] ≥ 0, Int)\n",
    "@objective(m, Min, cost ⋅ X)\n",
    "@constraint(m,sum(X) .== min(sum(P), sum(Q)))\n",
    "@constraint(m, X * ones(Int, length(Q)) .<= P)\n",
    "@constraint(m, X'ones(Int, length(P)) .<= Q);\n",
    "optimize!(m)\n",
    "solution_pool = zeros(solCount, length(P),length(Q))\n",
    "cnt = 0\n",
    "obj = objective_value(m)\n",
    "\n",
    "for i in 0:(solCount-1)\n",
    "    try\n",
    "        setparam!(m.moi_backend.inner,\"SolutionNumber\", i)\n",
    "        xn = Gurobi.get_dblattrarray(m.moi_backend.inner, \"Xn\", 1, length(X))\n",
    "        xn_val = Gurobi.get_dblattr(m.moi_backend.inner, \"PoolObjVal\")\n",
    "#         if(round(xn_val,digits=1) != round(obj, digits=1))\n",
    "        if(round(xn_val) != round(obj))\n",
    "            println(cnt , \" solution(s) selected\")\n",
    "            break\n",
    "        end\n",
    "        default = zeros(length(P),length(Q))\n",
    "        for i in 0:length(P)-1\n",
    "            default[i+1,:] = xn[(i*length(Q))+1:(i+1)*length(Q)]\n",
    "        end\n",
    "        solution_pool[i+1,:,:] = default\n",
    "        cnt+=1\n",
    "    catch \n",
    "        break\n",
    "    end\n",
    "end\n",
    "sol_pool = deepcopy(solution_pool[1:cnt,:,:]);"
   ]
  },
  {
   "cell_type": "code",
   "execution_count": 15,
   "metadata": {},
   "outputs": [
    {
     "name": "stdout",
     "output_type": "stream",
     "text": [
      "(550, 4)"
     ]
    },
    {
     "data": {
      "text/plain": [
       "\"../data/dense/experiment/matchedPoints_10.csv\""
      ]
     },
     "execution_count": 15,
     "metadata": {},
     "output_type": "execute_result"
    }
   ],
   "source": [
    "n_sol = 10\n",
    "solOther = sparse(sol_pool[n_sol,:,:])\n",
    "sizeOf = min(size(P,1), size(Q,1))\n",
    "matched_pts1 = zeros(sizeOf,2)\n",
    "matched_pts2 = zeros(sizeOf,2)\n",
    "i = 1\n",
    "py\"\"\"\n",
    "arr = []\n",
    "\"\"\"\n",
    "for (x,y,v) in zip(findnz(solOther)...)\n",
    "    x_pos = [P_points'[:,x][1], Q_points'[:,y][1]]\n",
    "    y_pos = [P_points'[:,x][2], Q_points'[:,y][2]]\n",
    "    \n",
    "    # dmatch creating\n",
    "    queryId = x-1\n",
    "    trainId = y-1\n",
    "    distance = cost[x,y]\n",
    "#     if(distance <= 10)\n",
    "    dmatch = py\"cv2.DMatch($(queryId), $(trainId),$(distance))\"\n",
    "    py\"arr.append\"(dmatch)\n",
    "    matched_pts1[i,:] = [floor(x_pos[1]) floor(y_pos[1])]\n",
    "    matched_pts2[i,:] = [floor(x_pos[2]) floor(y_pos[2])]\n",
    "    i+=1\n",
    "#     end\n",
    "end\n",
    "py\"\"\"\n",
    "scene.matches = arr\n",
    "\"\"\"\n",
    "\n",
    "\n",
    "# path = \"../data\\\\pair\\\\lastLPMatched.png\"\n",
    "# py\"scene.drawMatches\"(path)\n",
    "\n",
    "\n",
    "matched_final_1 = deepcopy(matched_pts1[1:i-1, :])\n",
    "matched_final_2 = deepcopy(matched_pts2[1:i-1, :]);\n",
    "df = DataFrame()\n",
    "df.PX = matched_final_1[:,1]\n",
    "df.PY = matched_final_1[:,2]\n",
    "df.QX = matched_final_2[:,1]\n",
    "df.QY = matched_final_2[:,2];\n",
    "print(size(df))\n",
    "\n",
    "CSV.write(\"../data/dense/experiment/matchedPoints_$(n_sol).csv\",  df, writeheader=false)"
   ]
  }
 ],
 "metadata": {
  "kernelspec": {
   "display_name": "Julia 1.0.5",
   "language": "julia",
   "name": "julia-1.0"
  },
  "language_info": {
   "file_extension": ".jl",
   "mimetype": "application/julia",
   "name": "julia",
   "version": "1.0.5"
  },
  "pycharm": {
   "stem_cell": {
    "cell_type": "raw",
    "metadata": {
     "collapsed": false
    },
    "source": []
   }
  }
 },
 "nbformat": 4,
 "nbformat_minor": 2
}
