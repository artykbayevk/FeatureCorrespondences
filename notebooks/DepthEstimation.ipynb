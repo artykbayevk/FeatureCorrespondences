{
 "cells": [
  {
   "cell_type": "code",
   "execution_count": 11,
   "metadata": {},
   "outputs": [],
   "source": [
    "using PyCall\n",
    "using Distances\n",
    "using StatsBase\n",
    "using LinearAlgebra\n",
    "using JuMP\n",
    "using Gurobi\n",
    "using CSV\n",
    "using DataFrames\n",
    "using SparseArrays\n",
    "using Printf\n",
    "using JSON"
   ]
  },
  {
   "cell_type": "code",
   "execution_count": 12,
   "metadata": {},
   "outputs": [
    {
     "name": "stdout",
     "output_type": "stream",
     "text": [
      "size P points(70, 2)\n",
      "size Q points(70, 2)\n",
      "(70, 70)\n"
     ]
    }
   ],
   "source": [
    "py\"\"\"\n",
    "from mpl_toolkits.mplot3d import Axes3D\n",
    "import matplotlib.pyplot as plt\n",
    "import numpy as np\n",
    "import sys\n",
    "import cv2\n",
    "import os\n",
    "\n",
    "class Triangulation:\n",
    "    def load_imgs(self, path1, path2):\n",
    "        self.img1 = cv2.imread(path1, cv2.CV_8UC3)\n",
    "        self.img2 = cv2.imread(path2, cv2.CV_8UC3)\n",
    "        # base = \"/\".join(path1.split(\"\\\\\")[:-1])\n",
    "        # cv2.imwrite(os.path.join(base, \"left_loaded.png\"), self.img1)\n",
    "        # cv2.imwrite(os.path.join(base, \"right_loaded.png\"), self.img2)\n",
    "\n",
    "    def findRootSIFTFeatures(self, n_components = None):\n",
    "        class RootSIFT:\n",
    "            def __init__(self):\n",
    "                self.extractor = cv2.xfeatures2d.SIFT_create(n_components) if n_components != None else cv2.xfeatures2d.SIFT_create()\n",
    "            def compute(self, image, kps, eps=1e-7):\n",
    "                (kps, descs) = self.extractor.compute(image, kps)\n",
    "                if len(kps) == 0:\n",
    "                    return ([], None)\n",
    "\n",
    "                descs /= (descs.sum(axis=1, keepdims=True) + eps)\n",
    "                descs = np.sqrt(descs)\n",
    "                return (kps, descs)\n",
    "\n",
    "        class InnerFeatures:\n",
    "            def __init__(self, kps, des, pos):\n",
    "                self.kps = kps\n",
    "                self.des = des\n",
    "                self.pos = pos\n",
    "\n",
    "        def innerRootSIFT(img):\n",
    "            sift = cv2.xfeatures2d.SIFT_create(n_components) if n_components != None else cv2.xfeatures2d.SIFT_create()\n",
    "            (kps, descs) = sift.detectAndCompute(img, None)\n",
    "\n",
    "            rs = RootSIFT()\n",
    "            (kps, descs) = rs.compute(img, kps)\n",
    "            pos = [np.array([x.pt[0], x.pt[1]]) for x in kps]\n",
    "\n",
    "            return kps, descs, pos\n",
    "\n",
    "        kps1, desc1, pos1 = innerRootSIFT(self.img1)\n",
    "        kps2, desc2, pos2 = innerRootSIFT(self.img2)\n",
    "        self.feature_1 = InnerFeatures(kps1, desc1, pos1)\n",
    "        self.feature_2 = InnerFeatures(kps2, desc2, pos2)\n",
    "    def drawMatches(self, path):\n",
    "        self.outImage = cv2.drawMatches(self.img1, self.feature_1.kps, self.img2, self.feature_2.kps, self.matches,outImg=None)\n",
    "        cv2.imwrite(path, self.outImage)\n",
    "scene = Triangulation()\n",
    "\"\"\"\n",
    "n_components = JSON.parse(String(read(\"../config/config.json\")))[\"config\"][\"SIFTFeatures\"]\n",
    "\n",
    "img1_path = \"../data/dense/0000-small-left.png\"\n",
    "img2_path = \"../data/dense/0001-small-right.png\"\n",
    "\n",
    "py\"scene.load_imgs\"(img1_path, img2_path)\n",
    "py\"scene.findRootSIFTFeatures\"(n_components=n_components)\n",
    "\n",
    "pts1 = py\"scene.feature_1.pos\"\n",
    "pts2 = py\"scene.feature_2.pos\";\n",
    "\n",
    "P_points = hcat(pts1...)'\n",
    "Q_points = hcat(pts2...)'\n",
    "\n",
    "println(\"size P points\", size(P_points))\n",
    "println(\"size Q points\", size(Q_points))\n",
    "\n",
    "cost = pairwise(Euclidean(), P_points, Q_points; dims=1)\n",
    "println(size(cost))\n",
    "P = ones(size(P_points,1))\n",
    "Q = ones(size(Q_points,1));"
   ]
  },
  {
   "cell_type": "code",
   "execution_count": 13,
   "metadata": {},
   "outputs": [
    {
     "name": "stdout",
     "output_type": "stream",
     "text": [
      "Optimize a model with 141 rows, 4900 columns and 14700 nonzeros\n",
      "Variable types: 0 continuous, 4900 integer (0 binary)\n",
      "Coefficient statistics:\n",
      "  Matrix range     [1e+00, 1e+00]\n",
      "  Objective range  [2e+00, 5e+02]\n",
      "  Bounds range     [0e+00, 0e+00]\n",
      "  RHS range        [1e+00, 7e+01]\n",
      "Presolve time: 0.02s\n",
      "Presolved: 141 rows, 4900 columns, 14700 nonzeros\n",
      "Variable types: 0 continuous, 4900 integer (4900 binary)\n",
      "\n",
      "Root relaxation: objective 4.241748e+03, 439 iterations, 0.01 seconds\n",
      "\n",
      "    Nodes    |    Current Node    |     Objective Bounds      |     Work\n",
      " Expl Unexpl |  Obj  Depth IntInf | Incumbent    BestBd   Gap | It/Node Time\n",
      "\n",
      "*    0     0               0    4241.7475030 4241.74750  0.00%     -    0s\n",
      "Optimal solution found at node 0 - now completing solution pool...\n",
      "     0     0          -    0      4241.74750 4241.74750  0.00%     -    0s\n",
      "     0     0          -    0      4241.74750 4241.74750  0.00%     -    0s\n",
      "     0     2          -    0      4241.74750 4241.74750  0.00%     -    0s\n",
      "\n",
      "Explored 616 nodes (1668 simplex iterations) in 0.28 seconds\n",
      "Thread count was 4 (of 4 available processors)\n",
      "\n",
      "Solution count 10: 4241.75 4241.75 4241.75 ... 4242.07\n",
      "\n",
      "Optimal solution found (tolerance 1.00e-04)\n",
      "Best objective 4.241747502981e+03, best bound 4.241747502981e+03, gap 0.0000%\n"
     ]
    }
   ],
   "source": [
    "solCount = 10\n",
    "# m = JuMP.direct_model(Gurobi.Optimizer(PoolSearchMode=2, PoolSolutions=solCount, SolutionNumber=0,PoolGap = 0.001))\n",
    "m = JuMP.direct_model(Gurobi.Optimizer(PoolSearchMode=2, PoolSolutions=solCount, SolutionNumber=0))\n",
    "\n",
    "@variable(m, X[axes(cost,1), axes(cost,2)] ≥ 0, Int)\n",
    "@objective(m, Min, cost ⋅ X)\n",
    "@constraint(m,sum(X) .== min(sum(P), sum(Q)))\n",
    "@constraint(m, X * ones(Int, length(Q)) .<= P)\n",
    "@constraint(m, X'ones(Int, length(P)) .<= Q);\n",
    "optimize!(m)\n",
    "solution_pool = zeros(solCount, length(P),length(Q))\n",
    "cnt = 0\n",
    "obj = objective_value(m)\n",
    "\n",
    "for i in 0:(solCount-1)\n",
    "    try\n",
    "        setparam!(m.moi_backend.inner,\"SolutionNumber\", i)\n",
    "        xn = Gurobi.get_dblattrarray(m.moi_backend.inner, \"Xn\", 1, length(X))\n",
    "        xn_val = Gurobi.get_dblattr(m.moi_backend.inner, \"PoolObjVal\")\n",
    "#         if(round(xn_val,digits=1) != round(obj, digits=1))\n",
    "        if(round(xn_val) != round(obj))\n",
    "            println(cnt , \" solution(s) selected\")\n",
    "            break\n",
    "        end\n",
    "        default = zeros(length(P),length(Q))\n",
    "        for i in 0:length(P)-1\n",
    "            default[i+1,:] = xn[(i*length(Q))+1:(i+1)*length(Q)]\n",
    "        end\n",
    "        solution_pool[i+1,:,:] = default\n",
    "        cnt+=1\n",
    "    catch \n",
    "        break\n",
    "    end\n",
    "end\n",
    "sol_pool = deepcopy(solution_pool[1:cnt,:,:]);"
   ]
  },
  {
   "cell_type": "code",
   "execution_count": 23,
   "metadata": {},
   "outputs": [
    {
     "name": "stdout",
     "output_type": "stream",
     "text": [
      "(70, 4)"
     ]
    },
    {
     "data": {
      "text/plain": [
       "\"../data/dense/experiment/matchedPoints_10.csv\""
      ]
     },
     "execution_count": 23,
     "metadata": {},
     "output_type": "execute_result"
    }
   ],
   "source": [
    "n_sol = 10\n",
    "solOther = sparse(sol_pool[n_sol,:,:])\n",
    "sizeOf = min(size(P,1), size(Q,1))\n",
    "matched_pts1 = zeros(sizeOf,2)\n",
    "matched_pts2 = zeros(sizeOf,2)\n",
    "i = 1\n",
    "py\"\"\"\n",
    "arr = []\n",
    "\"\"\"\n",
    "for (x,y,v) in zip(findnz(solOther)...)\n",
    "    x_pos = [P_points'[:,x][1], Q_points'[:,y][1]]\n",
    "    y_pos = [P_points'[:,x][2], Q_points'[:,y][2]]\n",
    "    \n",
    "    # dmatch creating\n",
    "    queryId = x-1\n",
    "    trainId = y-1\n",
    "    distance = cost[x,y]\n",
    "#     if(distance <= 10)\n",
    "    dmatch = py\"cv2.DMatch($(queryId), $(trainId),$(distance))\"\n",
    "    py\"arr.append\"(dmatch)\n",
    "    matched_pts1[i,:] = [floor(x_pos[1]) floor(y_pos[1])]\n",
    "    matched_pts2[i,:] = [floor(x_pos[2]) floor(y_pos[2])]\n",
    "    i+=1\n",
    "#     end\n",
    "end\n",
    "py\"\"\"\n",
    "scene.matches = arr\n",
    "\"\"\"\n",
    "\n",
    "\n",
    "# path = \"../data\\\\pair\\\\lastLPMatched.png\"\n",
    "# py\"scene.drawMatches\"(path)\n",
    "\n",
    "\n",
    "matched_final_1 = deepcopy(matched_pts1[1:i-1, :])\n",
    "matched_final_2 = deepcopy(matched_pts2[1:i-1, :]);\n",
    "df = DataFrame()\n",
    "df.PX = matched_final_1[:,1]\n",
    "df.PY = matched_final_1[:,2]\n",
    "df.QX = matched_final_2[:,1]\n",
    "df.QY = matched_final_2[:,2];\n",
    "print(size(df))\n",
    "\n",
    "CSV.write(\"../data/dense/experiment/matchedPoints_$(n_sol).csv\",  df, writeheader=false)"
   ]
  }
 ],
 "metadata": {
  "kernelspec": {
   "display_name": "Julia 1.1.1",
   "language": "julia",
   "name": "julia-1.1"
  },
  "language_info": {
   "file_extension": ".jl",
   "mimetype": "application/julia",
   "name": "julia",
   "version": "1.1.1"
  },
  "pycharm": {
   "stem_cell": {
    "cell_type": "raw",
    "metadata": {
     "collapsed": false
    },
    "source": []
   }
  }
 },
 "nbformat": 4,
 "nbformat_minor": 2
}
