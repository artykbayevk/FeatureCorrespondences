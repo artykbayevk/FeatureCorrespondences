{
 "cells": [
  {
   "cell_type": "code",
   "execution_count": 1,
   "metadata": {},
   "outputs": [],
   "source": [
    "using PyCall\n",
    "using Distances\n",
    "using StatsBase\n",
    "using LinearAlgebra\n",
    "using JuMP\n",
    "using Gurobi\n",
    "using CSV\n",
    "using DataFrames\n",
    "using SparseArrays\n",
    "using Printf\n",
    "using JSON\n",
    "using Glob"
   ]
  },
  {
   "cell_type": "code",
   "execution_count": 11,
   "metadata": {},
   "outputs": [
    {
     "ename": "MethodError",
     "evalue": "MethodError: no method matching reshape(::DataFrame)\nClosest candidates are:\n  reshape(!Matched::Array{T,M}, !Matched::Tuple{Vararg{Int64,N}}) where {T, N, M} at reshapedarray.jl:41\n  reshape(!Matched::AbstractArray, !Matched::Int64...) at reshapedarray.jl:115\n  reshape(!Matched::AbstractArray, !Matched::Union{Int64, AbstractUnitRange}...) at reshapedarray.jl:110\n  ...",
     "output_type": "error",
     "traceback": [
      "MethodError: no method matching reshape(::DataFrame)\nClosest candidates are:\n  reshape(!Matched::Array{T,M}, !Matched::Tuple{Vararg{Int64,N}}) where {T, N, M} at reshapedarray.jl:41\n  reshape(!Matched::AbstractArray, !Matched::Int64...) at reshapedarray.jl:115\n  reshape(!Matched::AbstractArray, !Matched::Union{Int64, AbstractUnitRange}...) at reshapedarray.jl:110\n  ...",
      "",
      "Stacktrace:",
      " [1] top-level scope at .\\In[11]:14"
     ]
    }
   ],
   "source": [
    "path_to_dir = \"../data/dataset\"\n",
    "list_of_dir = glob(\"pair_*\", path_to_dir)\n",
    "pair_num = length(list_of_dir);\n",
    "opt_solutions = 50\n",
    "SIFT = 100\n",
    "features = SIFT * 4 + 1 + 1 # num of features\n",
    "\n",
    "dataset = zeros(pair_num, opt_solutions, features)\n",
    "\n",
    "for pair in list_of_dir\n",
    "    pair_csv = glob(\"*.csv\", pair*\"/experiment\")\n",
    "    for data_file in pair_csv\n",
    "        inner_data_frame = CSV.read(data_file, header=0)\n",
    "        reshape(inner_data_frame)\n",
    "        break\n",
    "    end\n",
    "end"
   ]
  }
 ],
 "metadata": {
  "kernelspec": {
   "display_name": "Julia 1.1.1",
   "language": "julia",
   "name": "julia-1.1"
  },
  "language_info": {
   "file_extension": ".jl",
   "mimetype": "application/julia",
   "name": "julia",
   "version": "1.1.1"
  }
 },
 "nbformat": 4,
 "nbformat_minor": 4
}
