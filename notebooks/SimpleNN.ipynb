{
 "cells": [
  {
   "cell_type": "code",
   "execution_count": 1,
   "metadata": {},
   "outputs": [],
   "source": [
    "using Flux, Flux.Data.MNIST, Statistics\n",
    "using Flux: onehotbatch, onecold, crossentropy, throttle, params\n",
    "using Base.Iterators: repeated, partition\n",
    "using CuArrays\n",
    "using Metalhead\n",
    "using Metalhead:classify"
   ]
  },
  {
   "cell_type": "code",
   "execution_count": 2,
   "metadata": {},
   "outputs": [],
   "source": [
    "imgs = MNIST.images()\n",
    "labels = onehotbatch(MNIST.labels(), 0:9)\n",
    "train = [(cat(float.(imgs[i])..., dims = 4), labels[:,i])\n",
    "         for i in partition(1:60_000, 1000)]\n",
    "use_gpu = true # helper to easily switch between gpu/cpu\n",
    "todevice(x) = use_gpu ? gpu(x) : x\n",
    "train = todevice.(train);"
   ]
  },
  {
   "cell_type": "code",
   "execution_count": 4,
   "metadata": {},
   "outputs": [],
   "source": [
    "tX = cat(float.(MNIST.images(:test)[1:1000])..., dims = 4) |> todevice\n",
    "tY = onehotbatch(MNIST.labels(:test)[1:1000], 0:9) |> todevice;"
   ]
  },
  {
   "cell_type": "code",
   "execution_count": 6,
   "metadata": {},
   "outputs": [
    {
     "data": {
      "text/plain": [
       "Chain(Conv((2, 2), 1=>16, NNlib.relu), MaxPool((2, 2), pad = (0, 0, 0, 0), stride = (2, 2)), Conv((2, 2), 16=>8, NNlib.relu), MaxPool((2, 2), pad = (0, 0, 0, 0), stride = (2, 2)), getfield(Main, Symbol(\"##7#8\"))(), Dense(288, 10), NNlib.softmax)"
      ]
     },
     "execution_count": 6,
     "metadata": {},
     "output_type": "execute_result"
    }
   ],
   "source": [
    "m = todevice(Chain(\n",
    "  Conv((2,2), 1=>16, relu),\n",
    "  MaxPool((2, 2)),\n",
    "  Conv((2,2), 16=>8, relu),\n",
    "  MaxPool((2, 2)),\n",
    "  x -> reshape(x, :, size(x, 4)),\n",
    "  Dense(288, 10), softmax\n",
    "))"
   ]
  },
  {
   "cell_type": "code",
   "execution_count": 7,
   "metadata": {},
   "outputs": [
    {
     "data": {
      "text/plain": [
       "loss (generic function with 1 method)"
      ]
     },
     "execution_count": 7,
     "metadata": {},
     "output_type": "execute_result"
    }
   ],
   "source": [
    "loss(x, y) = crossentropy(m(x), y)"
   ]
  },
  {
   "cell_type": "code",
   "execution_count": 15,
   "metadata": {},
   "outputs": [
    {
     "name": "stdout",
     "output_type": "stream",
     "text": [
      "  0.547370 seconds (421.66 k allocations: 23.092 MiB, 3.12% gc time)\n"
     ]
    }
   ],
   "source": [
    "@time Flux.train!(loss, params(m), train, ADAM())"
   ]
  },
  {
   "cell_type": "code",
   "execution_count": 23,
   "metadata": {},
   "outputs": [
    {
     "name": "stdout",
     "output_type": "stream",
     "text": [
      "Predicted: [4]\n"
     ]
    }
   ],
   "source": [
    "N = 5\n",
    "img = tX[:, :, 1:1, N:N]\n",
    "println(\"Predicted: \", Flux.onecold(m(gpu(img))) .- 1)"
   ]
  }
 ],
 "metadata": {
  "@webio": {
   "lastCommId": null,
   "lastKernelId": null
  },
  "kernelspec": {
   "display_name": "Julia 1.1.1",
   "language": "julia",
   "name": "julia-1.1"
  },
  "language_info": {
   "file_extension": ".jl",
   "mimetype": "application/julia",
   "name": "julia",
   "version": "1.1.1"
  }
 },
 "nbformat": 4,
 "nbformat_minor": 2
}
